{
 "cells": [
  {
   "cell_type": "code",
   "execution_count": 2,
   "id": "broke-military",
   "metadata": {},
   "outputs": [],
   "source": [
    "%matplotlib inline\n",
    "# Importing standard Qiskit libraries\n",
    "from qiskit import *\n",
    "from qiskit import QuantumCircuit, execute, Aer, IBMQ\n",
    "from qiskit.circuit.library import ZZFeatureMap\n",
    "from qiskit.compiler import transpile, assemble\n",
    "from qiskit.tools.jupyter import *\n",
    "from qiskit.visualization import *\n",
    "from qiskit.utils import QuantumInstance, algorithm_globals\n",
    "from qiskit.aqua.algorithms import QSVM\n",
    "from qiskit_machine_learning.algorithms import QSVR\n",
    "from qiskit_machine_learning.kernels import QuantumKernel\n",
    "from qiskit.aqua.utils import split_dataset_to_data_and_labels, map_label_to_class_name\n",
    "from qiskit.aqua.utils import reduce_dim_to_via_pca\n",
    "from ibm_quantum_widgets import *\n",
    "import pandas as pd\n",
    "from sklearn.model_selection import train_test_split\n",
    "from sklearn.preprocessing import StandardScaler\n",
    "from scipy.linalg import expm\n",
    "from qiskit.aqua.components.multiclass_extensions import AllPairs\n",
    "import math\n",
    "import numpy as np\n",
    "import matplotlib.pyplot as plt\n",
    "\n",
    "# Loading your IBM Q account(s)\n",
    "provider = IBMQ.load_account()\n",
    "\n",
    "seed = 1000\n",
    "algorithm_globals.random_seed = seed #"
   ]
  },
  {
   "cell_type": "code",
   "execution_count": 3,
   "id": "942a69e0",
   "metadata": {},
   "outputs": [
    {
     "name": "stdout",
     "output_type": "stream",
     "text": [
      "Collecting skfeature\n",
      "  Cloning https://github.com/jundongl/scikit-feature.git to /tmp/pip-install-jlbt61li/skfeature_0ae418920b88424da0606de2a56068c3\n",
      "  Running command git clone -q https://github.com/jundongl/scikit-feature.git /tmp/pip-install-jlbt61li/skfeature_0ae418920b88424da0606de2a56068c3\n",
      "Building wheels for collected packages: skfeature\n",
      "  Building wheel for skfeature (setup.py) ... \u001b[?25ldone\n",
      "\u001b[?25h  Created wheel for skfeature: filename=skfeature-1.0.0-py3-none-any.whl size=61507 sha256=a96ae91b94cf18a6b71b5703c73f445460fb152556c34f1ffff2ec50f99d9430\n",
      "  Stored in directory: /tmp/pip-ephem-wheel-cache-z630hs52/wheels/ea/ca/0b/ea331396461510ff572967528a880848ef75cc192b2f6074eb\n",
      "Successfully built skfeature\n",
      "Installing collected packages: skfeature\n",
      "Successfully installed skfeature-1.0.0\n"
     ]
    }
   ],
   "source": [
    "#Instalar paquete scikit-feature selection\n",
    "!pip install git+https://github.com/jundongl/scikit-feature.git#egg=skfeature"
   ]
  },
  {
   "cell_type": "code",
   "execution_count": 4,
   "id": "3a755e2d",
   "metadata": {},
   "outputs": [],
   "source": [
    "from skfeature.function.similarity_based import SPEC"
   ]
  },
  {
   "cell_type": "markdown",
   "id": "82577d3d",
   "metadata": {},
   "source": [
    "# Leer datos"
   ]
  },
  {
   "cell_type": "code",
   "execution_count": 6,
   "id": "planned-poster",
   "metadata": {},
   "outputs": [
    {
     "name": "stdout",
     "output_type": "stream",
     "text": [
      "            origh            resph  mehodCount  uriCount  useragentCount  \\\n",
      "0  192.168.202.79  192.168.229.251         200       200             200   \n",
      "1  192.168.202.79  192.168.229.153           1         1               1   \n",
      "2  192.168.202.79  192.168.229.101           1         1               1   \n",
      "3  192.168.202.79  192.168.229.156           1         1               1   \n",
      "4  192.168.202.76   192.168.28.102           4         4               4   \n",
      "\n",
      "  requestbodylen_Mean responsebodylenMean   Ano  Mes  dia  diasemana  hora  \\\n",
      "0            0.000000         155.935.000  2012    3   16          6    12   \n",
      "1            0.000000         326.000.000  2012    3   16          6    12   \n",
      "2            0.000000         238.000.000  2012    3   16          6    12   \n",
      "3            0.000000         287.000.000  2012    3   16          6    12   \n",
      "4            0.000000         169.000.000  2012    3   16          6    12   \n",
      "\n",
      "   minuto  RecordCount  \n",
      "0      30          200  \n",
      "1      30            1  \n",
      "2      30            1  \n",
      "3      30            1  \n",
      "4      42            4  \n"
     ]
    }
   ],
   "source": [
    "#Leer fichero de datos\n",
    "data = pd.read_csv('ETL_Jerarquia_0_v1.csv', sep=';') #leer csv\n",
    "#Guardar nombres de las columnas\n",
    "colNames = data.columns\n",
    "#Crear una copia del dataframe original\n",
    "OriginalData=data.copy()\n",
    "#Printear los primeros 5 casos\n",
    "print(data.head(n=5))"
   ]
  },
  {
   "cell_type": "markdown",
   "id": "603140a3",
   "metadata": {},
   "source": [
    "# Preproceso de datos"
   ]
  },
  {
   "cell_type": "code",
   "execution_count": 7,
   "id": "transparent-incentive",
   "metadata": {},
   "outputs": [
    {
     "name": "stdout",
     "output_type": "stream",
     "text": [
      "0    192.168.202.79\n",
      "1    192.168.202.79\n",
      "2    192.168.202.79\n",
      "3    192.168.202.79\n",
      "Name: origh, dtype: object\n",
      "Valor despues de preprocesar puntos: 19216820279\n"
     ]
    }
   ],
   "source": [
    "#Preprocesar columnas 0-1 (IPs) y 5-6 (valores con millares representados con puntos) \n",
    "#Quitar puntos de las columnas\n",
    "#Columna de IPs\n",
    "print(data.iloc[:,0].head(n=4))\n",
    "for i in np.array([0,1,5,6]):\n",
    "    data.iloc[:,i] = data.iloc[:,i].apply(lambda x: x.replace('.',''))\n",
    "\n",
    "print(\"Valor despues de preprocesar puntos: {}\".format(data.iloc[0,0]))"
   ]
  },
  {
   "cell_type": "markdown",
   "id": "8d42857b",
   "metadata": {},
   "source": [
    "## Eliminar filas que contienen IPv6"
   ]
  },
  {
   "cell_type": "code",
   "execution_count": 8,
   "id": "caroline-moore",
   "metadata": {},
   "outputs": [
    {
     "name": "stdout",
     "output_type": "stream",
     "text": [
      "origh                  object\n",
      "resph                  object\n",
      "mehodCount              int64\n",
      "uriCount                int64\n",
      "useragentCount          int64\n",
      "requestbodylen_Mean    object\n",
      "responsebodylenMean    object\n",
      "Ano                     int64\n",
      "Mes                     int64\n",
      "dia                     int64\n",
      "diasemana               int64\n",
      "hora                    int64\n",
      "minuto                  int64\n",
      "RecordCount             int64\n",
      "dtype: object\n"
     ]
    }
   ],
   "source": [
    "#Eliminar filas con IPv6, no se pueden representar como numeros para el qPCA\n",
    "#Todos los IPv6s comienzan con 2001:dbb, comprobar si hay : entre las posiciones 3 y 5 del string\n",
    "#para saber si es IPv6\n",
    "indicesFilas=[]\n",
    "for i in range (0,len(data)):\n",
    "    if (data.iloc[i,0].find(':',3,5)!=-1):\n",
    "        indicesFilas.append(i)\n",
    "\n",
    "#Eliminar las filas con IPs detectadas como IPv6\n",
    "data=data.drop(indicesFilas)\n",
    "\n",
    "#Printear tipos de columnas\n",
    "print(data.dtypes)\n",
    "#Poner las columnas preprocesadas en tipo integer ()\n",
    "data=data.astype('int64') "
   ]
  },
  {
   "cell_type": "markdown",
   "id": "7893f091",
   "metadata": {},
   "source": [
    "## Estandarizar datos"
   ]
  },
  {
   "cell_type": "code",
   "execution_count": 9,
   "id": "faced-sheffield",
   "metadata": {},
   "outputs": [
    {
     "name": "stdout",
     "output_type": "stream",
     "text": [
      "      origh     resph  mehodCount  uriCount  useragentCount  \\\n",
      "0 -1.037148  2.356561   -0.041078 -0.041078       -0.041078   \n",
      "1 -1.037148  2.356561   -0.121386 -0.121386       -0.121386   \n",
      "2 -1.037148  2.356561   -0.121386 -0.121386       -0.121386   \n",
      "\n",
      "   requestbodylen_Mean  responsebodylenMean  Ano  Mes       dia  diasemana  \\\n",
      "0             -0.07588            -0.022519  0.0  0.0 -0.610326  -0.610326   \n",
      "1             -0.07588            -0.022203  0.0  0.0 -0.610326  -0.610326   \n",
      "2             -0.07588            -0.022367  0.0  0.0 -0.610326  -0.610326   \n",
      "\n",
      "       hora    minuto  RecordCount  \n",
      "0 -1.843207  0.055657    -0.041078  \n",
      "1 -1.843207  0.055657    -0.121386  \n",
      "2 -1.843207  0.055657    -0.121386  \n"
     ]
    }
   ],
   "source": [
    "#Estandarizar datos \n",
    "data=StandardScaler().fit_transform(data)\n",
    "#Pasar datos a dataframe \n",
    "data=pd.DataFrame(data)\n",
    "#Reasignar los nombres a las columnas\n",
    "data.columns = colNames\n",
    "print(data.head(n=3))"
   ]
  },
  {
   "cell_type": "markdown",
   "id": "a3fdd372",
   "metadata": {},
   "source": [
    "# Feature Selection (Spectral)"
   ]
  },
  {
   "cell_type": "code",
   "execution_count": 9,
   "id": "46ab1730",
   "metadata": {},
   "outputs": [
    {
     "name": "stdout",
     "output_type": "stream",
     "text": [
      "[    0.     0.     0.     0.     0.     0.     0. -1000. -1000.     0.\n",
      "     0.     0.     0.     0.]\n"
     ]
    }
   ],
   "source": [
    "kwargs = {'style': 1}\n",
    "feats=SPEC.spec(data.to_numpy(), **kwargs)\n",
    "print(feats)"
   ]
  },
  {
   "cell_type": "code",
   "execution_count": 10,
   "id": "7f1f6882",
   "metadata": {},
   "outputs": [
    {
     "name": "stdout",
     "output_type": "stream",
     "text": [
      "Variables seleccionadas: \n",
      " Index(['RecordCount', 'minuto', 'hora', 'diasemana'], dtype='object')\n"
     ]
    }
   ],
   "source": [
    "#Indices de mayor a menor de los valores de ranking del SPEC feature selection\n",
    "index = feats.argsort()[::-1]\n",
    "fsData=data.iloc[:,index[0:4]]\n",
    "\n",
    "print(\"Variables seleccionadas: \\n\", fsData.columns)"
   ]
  },
  {
   "cell_type": "markdown",
   "id": "fa244011",
   "metadata": {},
   "source": [
    "# Feature selection correlation"
   ]
  },
  {
   "cell_type": "code",
   "execution_count": 10,
   "id": "0e5875e8",
   "metadata": {},
   "outputs": [
    {
     "name": "stdout",
     "output_type": "stream",
     "text": [
      "Variables con mayor correlacion: \n",
      " origh                minuto                 0.001879\n",
      "diasemana            RecordCount            0.003432\n",
      "resph                useragentCount         0.006262\n",
      "minuto               hora                   0.007318\n",
      "mehodCount           minuto                 0.007425\n",
      "dia                  responsebodylenMean    0.008262\n",
      "resph                hora                   0.008976\n",
      "minuto               resph                  0.010158\n",
      "hora                 responsebodylenMean    0.013268\n",
      "minuto               requestbodylen_Mean    0.016068\n",
      "                     responsebodylenMean    0.017317\n",
      "useragentCount       hora                   0.018063\n",
      "minuto               diasemana              0.021749\n",
      "hora                 diasemana              0.030112\n",
      "requestbodylen_Mean  dia                    0.034196\n",
      "useragentCount       origh                  0.050353\n",
      "responsebodylenMean  origh                  0.064199\n",
      "requestbodylen_Mean  origh                  0.072335\n",
      "resph                responsebodylenMean    0.085035\n",
      "                     origh                  0.095094\n",
      "hora                 requestbodylen_Mean    0.102673\n",
      "origh                hora                   0.109069\n",
      "dia                  resph                  0.114190\n",
      "responsebodylenMean  useragentCount         0.126101\n",
      "mehodCount           requestbodylen_Mean    0.126284\n",
      "resph                requestbodylen_Mean    0.134900\n",
      "diasemana            origh                  0.152302\n",
      "responsebodylenMean  requestbodylen_Mean    0.155177\n",
      "dia                  diasemana              1.000000\n",
      "RecordCount          useragentCount         1.000000\n",
      "dtype: float64\n"
     ]
    }
   ],
   "source": [
    "#Correlaciones entre variables ordenadas de mayor a menor eliminando los pares centrales\n",
    "correlations=data.corr(method='kendall').abs().unstack().sort_values(ascending=True).drop_duplicates().dropna()\n",
    "print(\"Variables con mayor correlacion: \\n\",correlations)"
   ]
  },
  {
   "cell_type": "code",
   "execution_count": 11,
   "id": "8afb4fd5",
   "metadata": {},
   "outputs": [
    {
     "name": "stdout",
     "output_type": "stream",
     "text": [
      "Variables seleccionadas: \n",
      " Index(['origh', 'minuto', 'diasemana', 'RecordCount'], dtype='object')\n"
     ]
    }
   ],
   "source": [
    "#Obtener los nombres de los dos pares de variables menos correladas\n",
    "feats=list(correlations.index[0]+correlations.index[1])\n",
    "#Escoger las variables de la base de datos original\n",
    "fsData=data[feats]\n",
    "print(\"Variables seleccionadas: \\n\", fsData.columns)"
   ]
  },
  {
   "cell_type": "markdown",
   "id": "2488eed4",
   "metadata": {},
   "source": [
    "# PCA"
   ]
  },
  {
   "cell_type": "code",
   "execution_count": 12,
   "id": "b9d66e24",
   "metadata": {
    "scrolled": true
   },
   "outputs": [
    {
     "name": "stdout",
     "output_type": "stream",
     "text": [
      "Eigenvalores: \n",
      " [1.15424417 1.01364385 0.93552748 0.89717395]\n",
      "Porcentaje varianza explicada: \n",
      " [28.85185268 25.33736239 23.38474089 22.42604405]\n",
      "Porcentaje varianza acumulada: \n",
      " [ 28.85185268  54.18921506  77.57395595 100.        ]\n"
     ]
    },
    {
     "data": {
      "image/png": "[encoded data removed]",
      "text/plain": [
       "<Figure size 432x288 with 1 Axes>"
      ]
     },
     "metadata": {
      "needs_background": "light"
     },
     "output_type": "display_data"
    }
   ],
   "source": [
    "#Matriz de covarianza de los datos\n",
    "#cmat = np.cov(data, rowvar=False)\n",
    "cmat = np.cov(fsData, rowvar=False)\n",
    "#print(\"Matriz de covarianza: \\n\",cmat.head(n=5)\n",
    "\n",
    "#Calcular eigenvalores y eigenvectores\n",
    "eigenval,eigenvec = np.linalg.eig(cmat)\n",
    "\n",
    "#Ordenar eigenvalores y eigenvectores de mayor a menor\n",
    "index = eigenval.argsort()[::-1]\n",
    "eigenval=eigenval[index]\n",
    "eigenvec=eigenvec[:,index]\n",
    "print(\"Eigenvalores: \\n\",eigenval.real)\n",
    "#print(\"Eigenvectores: \\n\",eigenvec)\n",
    "\n",
    "explainedVar=eigenval/sum(eigenval)*100\n",
    "print(\"Porcentaje varianza explicada: \\n\", explainedVar.real)\n",
    "cumVar = explainedVar.cumsum()\n",
    "print(\"Porcentaje varianza acumulada: \\n\", cumVar.real)\n",
    "\n",
    "#Proyeccion en las nuevas componentes: proyeccion=X(datos)*Eigenvectors(en columnas)\n",
    "#pcaCoords=np.dot(data, eigenvec[:,0:2].real)\n",
    "pcaCoords=np.dot(fsData, eigenvec[:,0:2].real)\n",
    "pcaCoords=pd.DataFrame(pcaCoords)\n",
    "#Plot con pandas\n",
    "pcaCoords.plot.scatter(x=0,y=1)\n",
    "\n",
    "#Obtener las tres primeras componentes del pca para el QSVM\n",
    "#qsvmData =np.dot(data, eigenvec[:,0:3].real)\n",
    "qsvmData =np.dot(fsData, eigenvec[:,0:3])"
   ]
  },
  {
   "cell_type": "markdown",
   "id": "2cd02d18",
   "metadata": {},
   "source": [
    "# QSVRegresor"
   ]
  },
  {
   "cell_type": "code",
   "execution_count": 18,
   "id": "aa6ad1bd",
   "metadata": {},
   "outputs": [],
   "source": [
    "#Mapa de caracteristicas\n",
    "feature_map = ZZFeatureMap(feature_dimension=3, reps=2, entanglement='linear')\n",
    "#Instanciacion del simulador\n",
    "backend = QuantumInstance(BasicAer.get_backend('qasm_simulator'), shots=1024,\n",
    "                                seed_simulator=seed, seed_transpiler=seed)\n",
    "#Crear quantum kernel con el mapa de caracteristicas y el simulador\n",
    "kernel = QuantumKernel(feature_map=feature_map, quantum_instance=backend)\n",
    "#qsvm = QSVM(feature_map, training_input, test_input, multiclass_extension=AllPairs())\n",
    "qsvr = QSVR(quantum_kernel = kernel)"
   ]
  },
  {
   "cell_type": "markdown",
   "id": "e1d73028",
   "metadata": {},
   "source": [
    "## Prueba fit 100"
   ]
  },
  {
   "cell_type": "code",
   "execution_count": 19,
   "id": "a9ab3696",
   "metadata": {},
   "outputs": [],
   "source": [
    "#Coger 100 filas aleatorias entre la base de datos para la parte de fitting\n",
    "np.random.seed(999)\n",
    "ind=np.random.randint(0,len(qsvmData),size = 100)\n",
    "X=qsvmData[ind,1:3]#.reshape(-1,2)\n",
    "y=qsvmData[ind,0]\n",
    "try:\n",
    "    qsvr.fit(X, y)\n",
    "except Exception:\n",
    "    print(\"Runtime error\")"
   ]
  },
  {
   "cell_type": "code",
   "execution_count": 20,
   "id": "b41359d0",
   "metadata": {},
   "outputs": [
    {
     "name": "stdout",
     "output_type": "stream",
     "text": [
      "Indice:  0\n",
      "Indice:  100\n",
      "Indice:  200\n",
      "Indice:  300\n",
      "Indice:  400\n",
      "Indice:  500\n",
      "Indice:  600\n",
      "Indice:  700\n",
      "Indice:  800\n",
      "Indice:  900\n",
      "Indice:  1000\n",
      "Indice:  1100\n",
      "Indice:  1200\n",
      "Indice:  1300\n",
      "Indice:  1400\n",
      "Indice:  1500\n",
      "Indice:  1600\n",
      "Indice:  1700\n",
      "Indice:  1800\n",
      "Indice:  1900\n",
      "Indice:  2000\n",
      "Indice:  2100\n",
      "Indice:  2200\n",
      "Indice:  2300\n",
      "Indice:  2400\n",
      "Indice:  2500\n",
      "Indice:  2600\n",
      "Indice:  2700\n",
      "Indice:  2800\n",
      "Indice:  2900\n",
      "Indice:  3000\n",
      "Indice:  3100\n",
      "Indice:  3200\n",
      "Indice:  3300\n",
      "Indice:  3400\n",
      "Indice:  3500\n",
      "Indice:  3600\n",
      "Indice:  3700\n",
      "Indice:  3800\n",
      "Indice:  3900\n",
      "Indice:  4000\n",
      "Indice:  4100\n",
      "Indice:  4200\n",
      "Indice:  4300\n",
      "Indice:  4400\n",
      "Indice:  4500\n",
      "Indice:  4600\n",
      "Indice:  4700\n",
      "Indice:  4800\n",
      "Indice:  4900\n",
      "Indice:  5000\n",
      "Indice:  5100\n",
      "Indice:  5200\n",
      "Indice:  5300\n",
      "Indice:  5400\n",
      "Indice:  5500\n",
      "Indice:  5600\n",
      "Indice:  5700\n",
      "Indice:  5800\n",
      "Indice:  5900\n",
      "Indice:  6000\n",
      "Indice:  6100\n",
      "Indice:  6200\n",
      "Indice:  6300\n",
      "Indice:  6400\n",
      "Indice:  6500\n",
      "Indice:  6600\n",
      "Indice:  6700\n"
     ]
    }
   ],
   "source": [
    "#Eliminar los casos escogidos para la fase de fitting\n",
    "#newData=[element for i, element in enumerate(qsvmData) if i not in ind]\n",
    "#print(\"Tamaño de la nueva base de datos: {}, y de la original: {}\".format(len(newData),len(qsvmData)))\n",
    "output=np.empty(len(qsvmData))\n",
    "for i in range (0,len(qsvmData),100):\n",
    "    #Separar el ultimo caso con menos de 100 datos\n",
    "    if i==6700:\n",
    "        output[i:i+87]=qsvr.predict(qsvmData[i:i+87,1:3])\n",
    "    else:\n",
    "        output[i:i+100]=qsvr.predict(qsvmData[i:i+100,1:3])    \n",
    "    \n",
    "    print(\"Indice: \", i)\n",
    "\n",
    "#print(qsvr.predict(X).head(n=20))\n",
    "#print(\"Real values: \\n\", y[0:21])"
   ]
  },
  {
   "cell_type": "markdown",
   "id": "1c52e2f1",
   "metadata": {},
   "source": [
    "## Guardar predicciones en un fichero"
   ]
  },
  {
   "cell_type": "code",
   "execution_count": 21,
   "id": "c25e33c8",
   "metadata": {},
   "outputs": [
    {
     "name": "stdout",
     "output_type": "stream",
     "text": [
      "[ 0.17082674  0.09449028  0.09449028  0.09449028 -0.22135757]\n"
     ]
    }
   ],
   "source": [
    "print(output[0:5])\n",
    "#np.savetxt('predicciones.csv', output, delimiter=',', fmt='%1.8f')#Escribir en fichero con 8 decimales de precision\n",
    "np.savetxt('prediccionesCA.csv', output, delimiter=',', fmt='%1.8f')#Escribir en fichero con 8 decimales de precision"
   ]
  },
  {
   "cell_type": "code",
   "execution_count": 4,
   "id": "f03d1496",
   "metadata": {},
   "outputs": [
    {
     "name": "stdout",
     "output_type": "stream",
     "text": [
      "[-0.19019764  0.03515346  0.03515346  0.03515346 -0.61006027]\n"
     ]
    }
   ],
   "source": [
    "#output=pd.read_csv('predicciones.csv', sep=',', header=None).to_numpy().reshape(-1) #leer fichero de predicciones\n",
    "output=pd.read_csv('prediccionesCA.csv', sep=',', header=None).to_numpy().reshape(-1) #leer fichero de predicciones\n",
    "print(output[0:5])"
   ]
  },
  {
   "cell_type": "code",
   "execution_count": 22,
   "id": "4249de44",
   "metadata": {},
   "outputs": [
    {
     "name": "stdout",
     "output_type": "stream",
     "text": [
      "[1.2060755927395184, 1.146990118188089, 1.146990118188089, 1.146990118188089, 0.5406107176258975]\n"
     ]
    }
   ],
   "source": [
    "#Calcular el error: sqrt((a-b)^2)\n",
    "errors = [math.sqrt((qsvmData[i,0]-output[i])**2) for i in range(len(qsvmData[:,0]))]\n",
    "print(errors[0:5])"
   ]
  },
  {
   "cell_type": "code",
   "execution_count": 23,
   "id": "2f99826b",
   "metadata": {},
   "outputs": [
    {
     "name": "stdout",
     "output_type": "stream",
     "text": [
      "            origh            resph  mehodCount  uriCount  useragentCount  \\\n",
      "0  192.168.202.79  192.168.229.251         200       200             200   \n",
      "1  192.168.202.79  192.168.229.153           1         1               1   \n",
      "2  192.168.202.79  192.168.229.101           1         1               1   \n",
      "3  192.168.202.79  192.168.229.156           1         1               1   \n",
      "4  192.168.202.76   192.168.28.102           4         4               4   \n",
      "\n",
      "  requestbodylen_Mean responsebodylenMean   Ano  Mes  dia  diasemana  hora  \\\n",
      "0            0.000000         155.935.000  2012    3   16          6    12   \n",
      "1            0.000000         326.000.000  2012    3   16          6    12   \n",
      "2            0.000000         238.000.000  2012    3   16          6    12   \n",
      "3            0.000000         287.000.000  2012    3   16          6    12   \n",
      "4            0.000000         169.000.000  2012    3   16          6    12   \n",
      "\n",
      "   minuto  RecordCount               Fecha     Error  \n",
      "0      30          200 2012-03-16 12:30:00  1.206076  \n",
      "1      30            1 2012-03-16 12:30:00  1.146990  \n",
      "2      30            1 2012-03-16 12:30:00  1.146990  \n",
      "3      30            1 2012-03-16 12:30:00  1.146990  \n",
      "4      42            4 2012-03-16 12:42:00  0.540611  \n"
     ]
    }
   ],
   "source": [
    "#Crear columna de fecha (uniendo las columnas de año, mes, dia, hora y minuto)\n",
    "OriginalData[\"Fecha\"] = pd.to_datetime(OriginalData[\"Ano\"].astype(str) +'-'+ OriginalData[\"Mes\"].astype(str) +'-'+ OriginalData[\"dia\"].astype(str) +' '+ OriginalData[\"hora\"].astype(str) +':'+ OriginalData[\"minuto\"].astype(str))  \n",
    "#Convertir el vector de errores en columna de pandas\n",
    "OriginalData[\"Error\"] = pd.Series(errors)\n",
    "print(OriginalData.head(5))"
   ]
  },
  {
   "cell_type": "code",
   "execution_count": 25,
   "id": "07ecce6b",
   "metadata": {},
   "outputs": [
    {
     "data": {
      "text/plain": [
       "<AxesSubplot:xlabel='Fecha', ylabel='Error'>"
      ]
     },
     "execution_count": 25,
     "metadata": {},
     "output_type": "execute_result"
    },
    {
     "data": {
      "image/png": "[encoded data removed]",
      "text/plain": [
       "<Figure size 1440x720 with 1 Axes>"
      ]
     },
     "metadata": {
      "needs_background": "light"
     },
     "output_type": "display_data"
    }
   ],
   "source": [
    "from matplotlib.pyplot import figure\n",
    "#Color dependiendo del error obtenido\n",
    "#col = np.where(OriginalData[\"Error\"]>25,'r','C0')#pca clasico\n",
    "#col = np.where(OriginalData[\"Error\"]>7.5,'r','C0')#feature selection\n",
    "col = np.where(OriginalData[\"Error\"]>5,'r','C0')#eigenvec circuito\n",
    "OriginalData.plot.scatter(x=\"Fecha\", y =\"Error\", figsize=(20,10), c=col)"
   ]
  },
  {
   "cell_type": "markdown",
   "id": "67b94e4a",
   "metadata": {},
   "source": [
    "# Pruebas eigenvalues a mano"
   ]
  },
  {
   "cell_type": "code",
   "execution_count": 13,
   "id": "3d5dc4c1",
   "metadata": {},
   "outputs": [],
   "source": [
    "#Función para calcular el eigenvalue correspondiente al eigenvector v, \n",
    "#la matriz de covarianza covmat y el conjunto de datos data\n",
    "#Devuelve el eigenvector y la matriz de covarianza actualizada\n",
    "def eigenvalue(v, covmat, data):    \n",
    "    #Calcular las proyecciones de cada punto al eigenvector: ((P*u1)/(u1*u1)*u1\n",
    "    projections=data.to_numpy().dot(v)/np.dot(v,v)\n",
    "    #Multiplicar vector con todos los escalares por el vector unitario (primer eigenvector)\n",
    "    pointProjections=np.outer(projections,v)\n",
    "    #Calcular las distancias de todos los puntos obtenidos al origen\n",
    "    zero=np.zeros(data.shape[1])\n",
    "    #Calcular las distancias al cuadrado de todos los puntos projectados y el origen para obtener el eigenvalue\n",
    "    distance=np.linalg.norm(pointProjections - zero)**2\n",
    "    #Dividir el eigenvalue entre n-1 para obtener la variacion del componente pc1\n",
    "    eigenvalue=distance/6786\n",
    "    #Actualzar matriz de covarianza, B=A-lambda1*(v*v^T)/(v*v)^2\n",
    "    cmatUpdated=covmat-eigenvalue*np.outer(v,v)/(np.dot(v,v)**2)\n",
    "    \n",
    "    #Devolver el eigenvalue obtenido y la matriz de covarianza actualizada\n",
    "    return round(eigenvalue,8), cmatUpdated\n",
    "\n",
    "xd, c=eigenvalue(eigenvec[:,0],cmat,fsData)"
   ]
  },
  {
   "cell_type": "code",
   "execution_count": 78,
   "id": "bd8dc7b8",
   "metadata": {},
   "outputs": [
    {
     "name": "stdout",
     "output_type": "stream",
     "text": [
      "[[-1.59562714e-02  3.62457382e-02  1.43331621e-01  1.43331621e-01\n",
      "   1.43331621e-01 -2.62985527e-03 -2.72529531e-04 -0.00000000e+00\n",
      "  -0.00000000e+00 -2.17324013e-02 -2.17324013e-02  1.11327371e-02\n",
      "   3.71290116e-03  1.43331621e-01]\n",
      " [-7.29602834e-03  1.65734166e-02  6.55385927e-02  6.55385927e-02\n",
      "   6.55385927e-02 -1.20250516e-03 -1.24614525e-04 -0.00000000e+00\n",
      "  -0.00000000e+00 -9.93717219e-03 -9.93717219e-03  5.09046025e-03\n",
      "   1.69772947e-03  6.55385927e-02]\n",
      " [-7.29603673e-03  1.65734357e-02  6.55386680e-02  6.55386680e-02\n",
      "   6.55386680e-02 -1.20250654e-03 -1.24614669e-04 -0.00000000e+00\n",
      "  -0.00000000e+00 -9.93718361e-03 -9.93718361e-03  5.09046610e-03\n",
      "   1.69773142e-03  6.55386680e-02]\n",
      " [-7.29603206e-03  1.65734251e-02  6.55386261e-02  6.55386261e-02\n",
      "   6.55386261e-02 -1.20250577e-03 -1.24614589e-04 -0.00000000e+00\n",
      "  -0.00000000e+00 -9.93717725e-03 -9.93717725e-03  5.09046284e-03\n",
      "   1.69773033e-03  6.55386261e-02]\n",
      " [ 1.07363508e-02 -2.43883393e-02 -9.64422405e-02 -9.64422405e-02\n",
      "  -9.64422405e-02  1.76952673e-03  1.83374460e-04  0.00000000e+00\n",
      "   0.00000000e+00  1.46228826e-02  1.46228826e-02 -7.49078323e-03\n",
      "  -2.49826594e-03 -9.64422405e-02]]\n"
     ]
    }
   ],
   "source": [
    "#Calcular las proyecciones de cada punto al eigenvector: ((P*u1)/(u1*u1)*u1\n",
    "v=eigenvec[:,0].real\n",
    "#Metodo 1 (apply mas lento):\n",
    "#pointProjections=pd.DataFrame(data.apply(lambda x: (np.dot(x,v)/np.dot(v,v))*v, axis=1))\n",
    "#print(pointProjections.head(5))\n",
    "\n",
    "#Metodo 2: \n",
    "projections=data.to_numpy().dot(v)/np.dot(v,v)\n",
    "#Multiplicar vector con todos los escalares por el vector unitario (primer eigenvector)\n",
    "pointProjections=np.outer(projections,v)\n",
    "print(pointProjections[0:5,:])"
   ]
  },
  {
   "cell_type": "code",
   "execution_count": 11,
   "id": "646c563c",
   "metadata": {},
   "outputs": [
    {
     "name": "stdout",
     "output_type": "stream",
     "text": [
      "4.074108013728111\n"
     ]
    }
   ],
   "source": [
    "#Calcular las distancias de todos los puntos obtenidos al origen\n",
    "zero=np.zeros(data.shape[1])\n",
    "#Calcular las distancias al cuadrado de todos los puntos projectados y el origen para obtener el eigenvalue\n",
    "distance=np.linalg.norm(pointProjections - zero)**2\n",
    "#Dividir el eigenvalue entre n-1 para obtener la variacion del componente pc1\n",
    "eigenvalue1=distance/6786\n",
    "print(eigenvalue1)"
   ]
  },
  {
   "cell_type": "code",
   "execution_count": 46,
   "id": "1faaae48",
   "metadata": {},
   "outputs": [
    {
     "name": "stdout",
     "output_type": "stream",
     "text": [
      "[[ 1.00014736 -0.09305641]\n",
      " [-0.09305641  1.00014736]]\n",
      "[[ 0.98792013 -0.06528143]\n",
      " [-0.06528143  0.93705466]]\n"
     ]
    }
   ],
   "source": [
    "#Actualzar matriz de covarianza, B=A-lambda1*(v*v^T)/(v*v)^2\n",
    "cmatUpdated=cmat-eigenvalue1*np.outer(v,v)/(np.dot(v,v)**2)\n",
    "print(cmat[0:2,0:2])\n",
    "print(cmatUpdated[0:2,0:2])"
   ]
  },
  {
   "cell_type": "code",
   "execution_count": 50,
   "id": "12de84cb",
   "metadata": {},
   "outputs": [
    {
     "name": "stdout",
     "output_type": "stream",
     "text": [
      "Mayor eigenvalue despues de aplicar formula:  2.081786773762993\n",
      "Segundo mayor eigenvalue antes de aplicar formula:  2.0817867737629974\n"
     ]
    }
   ],
   "source": [
    "eigenval2,eigenvec2 = np.linalg.eig(cmatUpdated)\n",
    "\n",
    "#Ordenar eigenvalores y eigenvectores de mayor a menor\n",
    "index2 = eigenval2.argsort()[::-1]\n",
    "eigenval2=eigenval2[index2]\n",
    "eigenvec2=eigenvec2[:,index2]\n",
    "print(\"Mayor eigenvalue despues de aplicar formula: \",eigenval2.real[0])\n",
    "print(\"Segundo mayor eigenvalue antes de aplicar formula: \",eigenval.real[1])\n"
   ]
  },
  {
   "cell_type": "code",
   "execution_count": null,
   "id": "1e6c7880",
   "metadata": {},
   "outputs": [],
   "source": [
    "#Matriz de covarianza de los datos\n",
    "cmat = np.cov(data, rowvar=False)\n",
    "#print(\"Matriz de covarianza: \\n\",cmat.head(n=5)\n",
    "\n",
    "#Calcular eigenvalores y eigenvectores\n",
    "eigenval,eigenvec = np.linalg.eig(cmat)\n",
    "\n",
    "#Ordenar eigenvalores y eigenvectores de mayor a menor\n",
    "index = eigenval.argsort()[::-1]\n",
    "eigenval=eigenval[index]\n",
    "eigenvec=eigenvec[:,index]"
   ]
  },
  {
   "cell_type": "markdown",
   "id": "a2409c83",
   "metadata": {},
   "source": [
    "# Circuito 4 qubits"
   ]
  },
  {
   "cell_type": "code",
   "execution_count": 13,
   "id": "8a716034",
   "metadata": {},
   "outputs": [
    {
     "name": "stdout",
     "output_type": "stream",
     "text": [
      "Eigenvalores: \n",
      " [1.15424417 1.01364385 0.93552748 0.89717395]\n",
      "Eigenvectores: \n",
      " [[ 0.61241355  0.00663358 -0.41338126 -0.67381123]\n",
      " [ 0.029735   -0.91820528  0.34444069 -0.19332744]\n",
      " [ 0.60443664 -0.23179233 -0.27003895  0.71274654]\n",
      " [-0.50864705 -0.32113451 -0.79847073  0.02439886]]\n"
     ]
    }
   ],
   "source": [
    "#Matriz de covarianza de los datos\n",
    "cmat = np.cov(fsData, rowvar=False)\n",
    "#print(\"Matriz de covarianza: \\n\",cmat.head(n=5)\n",
    "\n",
    "#Calcular eigenvalores y eigenvectores\n",
    "eigenval,eigenvec = np.linalg.eig(cmat)\n",
    "\n",
    "#Ordenar eigenvalores y eigenvectores de mayor a menor\n",
    "index = eigenval.argsort()[::-1]\n",
    "eigenval=eigenval[index]\n",
    "eigenvec=eigenvec[:,index]\n",
    "\n",
    "print(\"Eigenvalores: \\n\",eigenval.real)\n",
    "print(\"Eigenvectores: \\n\",eigenvec)"
   ]
  },
  {
   "cell_type": "code",
   "execution_count": 14,
   "id": "c5379fbf",
   "metadata": {},
   "outputs": [],
   "source": [
    "p=cmat/cmat.trace()"
   ]
  },
  {
   "cell_type": "code",
   "execution_count": 76,
   "id": "3563f04f",
   "metadata": {
    "scrolled": true
   },
   "outputs": [
    {
     "name": "stderr",
     "output_type": "stream",
     "text": [
      "<ipython-input-76-7a10ad86c5d9>:19: DeprecationWarning: The QuantumCircuit.cu3 method is deprecated as of 0.16.0. It will be removed no earlier than 3 months after the release date. You should use the QuantumCircuit.cu method instead, where cu3(ϴ,φ,λ) = cu(ϴ,φ,λ,0).\n",
      "  circuit.cu3(theta,phi,lamb, 3, [4,5])\n"
     ]
    },
    {
     "name": "stdout",
     "output_type": "stream",
     "text": [
      "Traceback \u001b[1;36m(most recent call last)\u001b[0m:\n",
      "  File \u001b[0;32m\"<ipython-input-76-7a10ad86c5d9>\"\u001b[0m, line \u001b[0;32m9\u001b[0m, in \u001b[0;35m<module>\u001b[0m\n",
      "    circuit.initialize(stateVec, 4)\n",
      "  File \u001b[0;32m\"/opt/conda/lib/python3.8/site-packages/qiskit/extensions/quantum_initializer/initializer.py\"\u001b[0m, line \u001b[0;32m455\u001b[0m, in \u001b[0;35minitialize\u001b[0m\n",
      "    return self.append(Initialize(params, num_qubits), qubits)\n",
      "\u001b[1;36m  File \u001b[1;32m\"/opt/conda/lib/python3.8/site-packages/qiskit/extensions/quantum_initializer/initializer.py\"\u001b[1;36m, line \u001b[1;32m91\u001b[1;36m, in \u001b[1;35m__init__\u001b[1;36m\u001b[0m\n",
      "\u001b[1;33m    raise QiskitError(\"Sum of amplitudes-squared does not equal one.\")\u001b[0m\n",
      "\u001b[1;31mQiskitError\u001b[0m\u001b[1;31m:\u001b[0m 'Sum of amplitudes-squared does not equal one.'\n",
      "\n",
      "Use %tb to get the full traceback.\n"
     ]
    },
    {
     "data": {
      "text/html": [
       "\n",
       "<style>\n",
       ".button {\n",
       "  border: none;\n",
       "  color: white;\n",
       "  padding: 4px 8px;\n",
       "  text-align: center;\n",
       "  text-decoration: none;\n",
       "  display: inline-block;\n",
       "  font-size: 12px;\n",
       "  margin: 4px 2px;\n",
       "  transition-duration: 0.2s;\n",
       "  cursor: pointer;\n",
       "}\n",
       ".iqx-button {\n",
       "  background-color: #0f62fe; \n",
       "  color: white; \n",
       "}\n",
       ".iqx-button:hover {\n",
       "  background-color: #0043ce;\n",
       "  color: white;\n",
       "}\n",
       "</style>\n",
       "<a href=\"https://stackoverflow.com/search?q=QiskitError: Sum of amplitudes-squared does not equal one.\" target='_blank'><button class='button iqx-button'>Search for solution online</button></a>\n"
      ],
      "text/plain": [
       "<IPython.core.display.HTML object>"
      ]
     },
     "metadata": {},
     "output_type": "display_data"
    }
   ],
   "source": [
    "#Inicializar vector de estado (superposicion)\n",
    "stateVec = [1/np.sqrt(2), 1/np.sqrt(2)]\n",
    "stateVec2 = [1/np.sqrt(2), 1/np.sqrt(2)]\n",
    "#Repetir proceso para mayor precision\n",
    "for i in range(0, 5):\n",
    "    #Crear circuito con 5 qubits\n",
    "    circuit = QuantumCircuit(6,6)\n",
    "    #Inicializacion qubit 4 en estado de superposicion\n",
    "    circuit.initialize(stateVec, 4)\n",
    "    circuit.initialize(stateVec2, 5)\n",
    "    #Aplicar puertas de hadamard a qubits 0,1,2,3 para aplicar Quantum Amplitude Estimation sobre la matriz unitaria\n",
    "    circuit.h(0)\n",
    "    circuit.h(1)\n",
    "    circuit.h(2)\n",
    "    circuit.h(3)\n",
    "    #Calcular rotaciones de la puerta de la matriz unitaria\n",
    "    (theta, phi, lamb) = qiskit.quantum_info.OneQubitEulerDecomposer(basis='U3').angles(expm(2*1j*np.pi*p))\n",
    "    #Aplicar rotaciones\n",
    "    circuit.cu3(theta,phi,lamb, 3, [4,5])\n",
    "    #Calcular rotaciones de la puerta de la matriz unitaria aplicada dos veces, Quantum Amplitude Estimation\n",
    "    (theta2, phi2, lamb2) = qiskit.quantum_info.OneQubitEulerDecomposer(basis='U3').angles(expm(2*1j*np.pi*p*2))\n",
    "    #Aplicar rotaciones\n",
    "    circuit.cu3(theta2,phi2,lamb2, 2, [4,5])\n",
    "    #Calcular rotaciones de la puerta de la matriz unitaria aplicada cuatro veces, Quantum Amplitude Estimation\n",
    "    (theta3, phi3, lamb3) = qiskit.quantum_info.OneQubitEulerDecomposer(basis='U3').angles(expm(2*1j*np.pi*p*4))\n",
    "    #Aplicar rotaciones\n",
    "    circuit.cu3(theta3,phi3,lamb3, 1, [4,5])\n",
    "    #Calcular rotaciones de la puerta de la matriz unitaria aplicada ocho veces, Quantum Amplitude Estimation\n",
    "    (theta4, phi4, lamb4) = qiskit.quantum_info.OneQubitEulerDecomposer(basis='U3').angles(expm(2*1j*np.pi*p*8))\n",
    "    #Aplicar rotaciones\n",
    "    circuit.cu3(theta4,phi4,lamb4, 0, [4,5])\n",
    "    \n",
    "    #Aplicar Quantum Fourier Transform en los qubits 0,1,2,3\n",
    "    circuit.h(0)\n",
    "    circuit.crz(-np.pi/2,0,1)\n",
    "    circuit.h(1)\n",
    "    circuit.crz(-np.pi/2,1,2)\n",
    "    circuit.crz(-np.pi/4,0,2)\n",
    "    circuit.h(2)\n",
    "    circuit.crz(-np.pi/2,2,3)\n",
    "    circuit.crz(-np.pi/4,1,3)\n",
    "    circuit.crz(-np.pi/8,0,3)\n",
    "    circuit.h(3)\n",
    "    \n",
    "    #Medir los qubits\n",
    "    circuit.measure([0,1,2,3,4,5], [0,1,2,3,4,5])\n",
    "    #Ejecutar circuito en el simulador y guardar resultados obtenidos\n",
    "    results = execute(circuit, backend=BasicAer.get_backend('qasm_simulator'), shots=10000).result().get_counts()\n",
    "    #print(results)\n",
    "    denominator = results['001111'] + results['011111'] + results['101111'] + results['111111']\n",
    "    \n",
    "    #Calcular coeficientes del eigenvector\n",
    "    alpha1 = np.sqrt(results['001111'] / denominator)\n",
    "    alpha2 = np.sqrt(results['011111'] / denominator)\n",
    "    alpha3 = np.sqrt(results['101111'] / denominator)\n",
    "    alpha4 = np.sqrt(results['111111'] / denominator)\n",
    "    \n",
    "    #Guardar nuevo estado inicial para la siguiente ejecucion\n",
    "    stateVec = [alpha1, alpha2]\n",
    "    stateVec2 = [alpha3, alpha4]\n",
    "\n",
    "print(\"Eigenvector obtenido: \",stateVec, stateVec2)"
   ]
  },
  {
   "cell_type": "markdown",
   "id": "af88584b",
   "metadata": {},
   "source": [
    "## Prueba sin loop"
   ]
  },
  {
   "cell_type": "code",
   "execution_count": 82,
   "id": "bdc2030a",
   "metadata": {},
   "outputs": [
    {
     "name": "stdout",
     "output_type": "stream",
     "text": [
      "Eigenvector obtenido:  [0.2586530658057318, 0.6581022652668016, 0.6251760315483433, 0.33038603114760284]\n"
     ]
    }
   ],
   "source": [
    "stateVec = [1/np.sqrt(2), 1/np.sqrt(2)]\n",
    "stateVec2 = [1/np.sqrt(2), 1/np.sqrt(2)]\n",
    "#Crear circuito con 5 qubits\n",
    "circuit = QuantumCircuit(6,6)\n",
    "\n",
    "#Inicializacion qubit 4 en estado de superposicion\n",
    "circuit.initialize(stateVec, 4)\n",
    "circuit.initialize(stateVec2, 5)\n",
    "\n",
    "#Aplicar puertas de hadamard a qubits 0,1,2,3 para aplicar Quantum Amplitude Estimation sobre la matriz unitaria\n",
    "circuit.h(0)\n",
    "circuit.h(1)\n",
    "circuit.h(2)\n",
    "circuit.h(3)\n",
    "\n",
    "#Calcular rotaciones de la puerta de la matriz unitaria\n",
    "(theta, phi, lamb) = qiskit.quantum_info.OneQubitEulerDecomposer(basis='U3').angles(expm(2*1j*np.pi*p))\n",
    "#Aplicar rotaciones\n",
    "circuit.cu(theta,phi,lamb,0, 3, [4,5])\n",
    "#Calcular rotaciones de la puerta de la matriz unitaria aplicada dos veces, Quantum Amplitude Estimation\n",
    "(theta2, phi2, lamb2) = qiskit.quantum_info.OneQubitEulerDecomposer(basis='U3').angles(expm(2*1j*np.pi*p*2))\n",
    "#Aplicar rotaciones\n",
    "circuit.cu(theta2,phi2,lamb2,0, 2, [4,5])\n",
    "#Calcular rotaciones de la puerta de la matriz unitaria aplicada cuatro veces, Quantum Amplitude Estimation\n",
    "(theta3, phi3, lamb3) = qiskit.quantum_info.OneQubitEulerDecomposer(basis='U3').angles(expm(2*1j*np.pi*p*4))\n",
    "#Aplicar rotaciones\n",
    "circuit.cu(theta3,phi3,lamb3,0, 1, [4,5])\n",
    "#Calcular rotaciones de la puerta de la matriz unitaria aplicada ocho veces, Quantum Amplitude Estimation\n",
    "(theta4, phi4, lamb4) = qiskit.quantum_info.OneQubitEulerDecomposer(basis='U3').angles(expm(2*1j*np.pi*p*8))\n",
    "#Aplicar rotaciones\n",
    "circuit.cu(theta4,phi4,lamb4,0, 0, [4,5])\n",
    "\n",
    "#Aplicar Quantum Fourier Transform en los qubits 0,1,2,3\n",
    "circuit.h(0)\n",
    "circuit.crz(-np.pi/2,0,1)\n",
    "circuit.h(1)\n",
    "circuit.crz(-np.pi/2,1,2)\n",
    "circuit.crz(-np.pi/4,0,2)\n",
    "circuit.h(2)\n",
    "circuit.crz(-np.pi/2,2,3)\n",
    "circuit.crz(-np.pi/4,1,3)\n",
    "circuit.crz(-np.pi/8,0,3)\n",
    "circuit.h(3)\n",
    "\n",
    "#Medir los qubits\n",
    "circuit.measure([0,1,2,3,4,5], [0,1,2,3,4,5])\n",
    "#Ejecutar circuito en el simulador y guardar resultados obtenidos\n",
    "results = execute(circuit, backend=BasicAer.get_backend('qasm_simulator'), shots=10000).result().get_counts()\n",
    "denominator = results['001111'] + results['011111'] + results['101111'] + results['111111']\n",
    "    \n",
    "#Calcular coeficientes del eigenvector en proyeccion 1111 (00,01,10,11); segunda proyeccion en 1110 segundo eigenvec????? \n",
    "alpha1 = np.sqrt(results['001111'] / denominator)\n",
    "alpha2 = np.sqrt(results['011111'] / denominator)\n",
    "alpha3 = np.sqrt(results['101111'] / denominator)\n",
    "alpha4 = np.sqrt(results['111111'] / denominator)\n",
    "\n",
    "#Guardar nuevo estado inicial para la siguiente ejecucion\n",
    "stateVec = [alpha1, alpha2]\n",
    "stateVec2 = [alpha3, alpha4]\n",
    "\n",
    "print(\"Eigenvector obtenido: \", stateVec + stateVec2)"
   ]
  },
  {
   "cell_type": "code",
   "execution_count": 83,
   "id": "b5606d98",
   "metadata": {},
   "outputs": [
    {
     "data": {
      "image/png": "[encoded data removed]",
      "text/plain": [
       "<Figure size 1591.6x927.08 with 1 Axes>"
      ]
     },
     "execution_count": 83,
     "metadata": {},
     "output_type": "execute_result"
    },
    {
     "data": {
      "image/png": "[encoded data removed]",
      "text/plain": [
       "<Figure size 1591.6x927.08 with 1 Axes>"
      ]
     },
     "metadata": {},
     "output_type": "display_data"
    }
   ],
   "source": [
    "circuit.draw(output='mpl')"
   ]
  },
  {
   "cell_type": "code",
   "execution_count": 14,
   "id": "01cfddfa",
   "metadata": {},
   "outputs": [],
   "source": [
    "#Creacion del circuito QPE con n qubits superiores y m inferiores, la matriz de covarianza normalizada p y el vector estado\n",
    "def QPE(n,m,p, stateVector):\n",
    "    #Circuito con n+m qubits y bits clasicos\n",
    "    #qpeCircuit=QuantumCircuit(n+m,n+m)\n",
    "    qpeCircuit=QuantumCircuit(n+m)\n",
    "    #Indices de los n qubits superiores\n",
    "    nNumbers=np.arange(0,n).tolist()\n",
    "    #Aplicar puertas de hadamard a los qubits superiores\n",
    "    qpeCircuit.h(nNumbers)\n",
    "    \n",
    "    #Indices de los m qubits inferiores\n",
    "    mNumbers=np.arange(n,n+m).tolist()\n",
    "    #Iniciar m qubits inferiores con el vector de estado\n",
    "    for i in range(n,n+m):\n",
    "        #qpeCircuit.initialize(stateVector,i)\n",
    "        qpeCircuit.ry(1,i)\n",
    "        qpeCircuit.rz(0.33,i)\n",
    "    \n",
    "    #Aplicar las puertas controladas de U entre los qubits superiores e inferiores\n",
    "    for i in range(0,n):\n",
    "        #Calcular rotacion de la matriz de covarianza para la puerta controlada U\n",
    "        (theta, phi, lamb) = qiskit.quantum_info.OneQubitEulerDecomposer(basis='U3').angles(expm(2*1j*np.pi*p*(2**i)))\n",
    "        #Aplicar rotaciones theta, phi, lambda, gamma=0\n",
    "        qpeCircuit.cu(theta,phi,lamb, 0, n-1-i, mNumbers)\n",
    "    \n",
    "    #Llamar a la funcion de creacion de IQFT para los n qubits superiores\n",
    "    iqftC=IQFT(n) \n",
    "    #Combinar los dos circuitos\n",
    "    xd=QuantumCircuit.compose(qpeCircuit,iqftC)\n",
    "    #Realizar las mediciones\n",
    "    #xd.measure(nNumbers+mNumbers,nNumbers+mNumbers)\n",
    "    xd.measure_all()\n",
    "    return xd\n",
    "\n",
    "\n",
    "#Creacion del circuito Inverse Quantum Fourier Transform con n qubits  \n",
    "def IQFT(n):\n",
    "    #Definir circuito de n qubits y n bits clasicos\n",
    "    #iqftCircuit=QuantumCircuit(n,n)\n",
    "    iqftCircuit=QuantumCircuit(n)\n",
    "    \n",
    "    #Aplicar las rotaciones respectivas a cada qubit, desde el 0 hasta el n-1\n",
    "    for i in range(0,n):\n",
    "        for j in range(0,i):\n",
    "            iqftCircuit.crz(-np.pi/(2**(j+1)), (i-1-j),i)\n",
    "        \n",
    "        #Aplicar puerta de hadamard despues de aplicar las rotaciones en cada qubit\n",
    "        iqftCircuit.h(i)    \n",
    "    return iqftCircuit\n",
    "\n",
    "#Creacion del circuito Inverse Quantum Fourier Transform con n qubits, Metodo 2 (paper Finances)\n",
    "def IQFT2(n):\n",
    "    iqftCircuit=QuantumCircuit(n)\n",
    "    #Aplicar las rotaciones respectivas a cada qubit, desde el 0 hasta el n-1\n",
    "    for i in range(0,n):\n",
    "        #Aplicar puerta de hadamard antes de aplicar las rotaciones en cada qubit\n",
    "        iqftCircuit.h(i)\n",
    "        for j in range(i,n-1):\n",
    "            iqftCircuit.crz(-np.pi/(2**(j+1)), i,j+1)\n",
    "    return iqftCircuit"
   ]
  },
  {
   "cell_type": "code",
   "execution_count": 20,
   "id": "cd0112bf",
   "metadata": {},
   "outputs": [],
   "source": [
    "#Matriz de covarianza de los datos\n",
    "cmat = np.cov(fsData, rowvar=False)\n",
    "p=cmat/cmat.trace()"
   ]
  },
  {
   "cell_type": "code",
   "execution_count": 22,
   "id": "5dea6a91",
   "metadata": {
    "scrolled": false
   },
   "outputs": [
    {
     "name": "stdout",
     "output_type": "stream",
     "text": [
      "Eigenvector obtenido:  [0.7303806420989957, 0.39201590603983827, 0.4017425280245165, 0.3891922253017063]\n"
     ]
    },
    {
     "data": {
      "image/png": "[encoded data removed]",
      "text/plain": [
       "<Figure size 504x360 with 1 Axes>"
      ]
     },
     "execution_count": 22,
     "metadata": {},
     "output_type": "execute_result"
    },
    {
     "data": {
      "image/png": "[encoded data removed]",
      "text/plain": [
       "<Figure size 504x360 with 1 Axes>"
      ]
     },
     "metadata": {
      "needs_background": "light"
     },
     "output_type": "display_data"
    }
   ],
   "source": [
    "#Inicializar vector de estado |+>\n",
    "stateVec = [1/np.sqrt(2), 1/np.sqrt(2)]\n",
    "for i in range(0,10):\n",
    "    circuit=QPE(2,4,p,stateVec)\n",
    "    results = execute(circuit, backend=BasicAer.get_backend('qasm_simulator'), shots=4096).result().get_counts()\n",
    "    #Conteo de los estados relacionados con la proyeccion 11 (011 y 111)\n",
    "    denominator = results['000000'] + results['100010'] + results['000110'] + results['010010']\n",
    "    #Calcular coeficientes del eigenvector\n",
    "    alpha1 = np.sqrt(results['000000'] / denominator)\n",
    "    alpha2 = np.sqrt(results['100010'] / denominator)\n",
    "    alpha3 = np.sqrt(results['000110'] / denominator)\n",
    "    alpha4 = np.sqrt(results['010010'] / denominator)\n",
    "    #Guardar nuevo estado inicial del qubit 2 para la siguiente ejecucion\n",
    "    stateVec = [alpha1, alpha2]\n",
    "    stateVec2= [alpha3, alpha4]\n",
    "print(\"Eigenvector obtenido: \",stateVec+stateVec2)\n",
    "plot_histogram(results)"
   ]
  },
  {
   "cell_type": "code",
   "execution_count": 16,
   "id": "08d9ec8c",
   "metadata": {},
   "outputs": [],
   "source": [
    "#Funcion para calcular el eigenvector dada la matriz de densidad (matriz cov normalizada por la traza)\n",
    "def circuitEigenvector(p):\n",
    "    #Inicializar vector de estado |+>\n",
    "    stateVec = [1/np.sqrt(2), 1/np.sqrt(2)]\n",
    "    for i in range(0,10):\n",
    "        circuit=QPE(2,2,p,stateVec)\n",
    "        results = execute(circuit, backend=BasicAer.get_backend('qasm_simulator'), shots=4096).result().get_counts()\n",
    "        #Obtener los nombres de los resultados por orden de conteos de mayor a menor\n",
    "        arra=np.array(list(results.values()))\n",
    "        index = arra.argsort()[::-1]\n",
    "        arra=arra[index]\n",
    "        key=np.array(list(results.keys()))[index]\n",
    "        #Conteo de los estados relacionados con la proyeccion 11 (011 y 111)\n",
    "        denominator = results[key[0]]+results[key[1]]+results[key[2]]+results[key[3]]\n",
    "        #Calcular coeficientes del eigenvector\n",
    "        alpha1 = np.sqrt(results[key[0]] / denominator)\n",
    "        alpha2 = np.sqrt(results[key[1]] / denominator)\n",
    "        alpha3 = np.sqrt(results[key[2]] / denominator)\n",
    "        alpha4 = np.sqrt(results[key[3]] / denominator)\n",
    "        #Guardar nuevo estado inicial del qubit 2 para la siguiente ejecucion\n",
    "        stateVec = [alpha1, alpha2]\n",
    "        stateVec2= [alpha3, alpha4]\n",
    "        print(\"Eigenvector obtenido: \",stateVec+stateVec2)\n",
    "        return stateVec+stateVec2"
   ]
  },
  {
   "cell_type": "code",
   "execution_count": 17,
   "id": "458721a4",
   "metadata": {},
   "outputs": [
    {
     "name": "stdout",
     "output_type": "stream",
     "text": [
      "Eigenvector obtenido:  [0.7670586067895986, 0.43666214414006627, 0.4180965050081141, 0.214808235701055]\n",
      "Eigenvector obtenido:  [0.7336685564672593, 0.40739830351122835, 0.4058638411717844, 0.3619828918287513]\n",
      "Eigenvector obtenido:  [0.8061138223506886, 0.3991998185126933, 0.39595687430897347, 0.1844943468024506]\n",
      "[[0.76705861 0.73366856 0.80611382]\n",
      " [0.43666214 0.4073983  0.39919982]\n",
      " [0.41809651 0.40586384 0.39595687]\n",
      " [0.21480824 0.36198289 0.18449435]]\n",
      "[1.04253404 1.01860109 1.04445631]\n"
     ]
    }
   ],
   "source": [
    "#Matriz de covarianza de los datos\n",
    "cmat = np.cov(fsData, rowvar=False)\n",
    "#Matriz de densidad\n",
    "p=cmat/cmat.trace()\n",
    "\n",
    "eigenvectors=np.zeros((len(cmat),3))\n",
    "eigenvalues=np.zeros(3)\n",
    "for i in range(0, len(eigenvectors)-1):\n",
    "    ev=circuitEigenvector(p)\n",
    "    eigenvalue1,cmat=eigenvalue(np.asarray(ev), cmat, fsData)\n",
    "    eigenvectors[:,i]=ev\n",
    "    p=cmat/cmat.trace()\n",
    "    eigenvalues[i]=eigenvalue1\n",
    "print(eigenvectors)\n",
    "print(eigenvalues)\n",
    "\n",
    "qsvmData =np.dot(fsData, eigenvectors[:,0:3])"
   ]
  },
  {
   "cell_type": "code",
   "execution_count": 69,
   "id": "e4d6878e",
   "metadata": {},
   "outputs": [
    {
     "name": "stdout",
     "output_type": "stream",
     "text": [
      "[1.15424417 1.01364385 0.93552748 0.89717395]\n",
      "[-13.32780159   0.21207261   0.8259705    0.95687106]\n"
     ]
    }
   ],
   "source": [
    "print(eigenval)\n",
    "xd,c=eigenvalue(eigenvec[:,0], cmat, fsData)\n",
    "eiv,ev=np.linalg.eig(c)\n",
    "print(eiv)"
   ]
  }
 ],
 "metadata": {
  "kernelspec": {
   "display_name": "Python 3 (ipykernel)",
   "language": "python",
   "name": "python3"
  },
  "language_info": {
   "codemirror_mode": {
    "name": "ipython",
    "version": 3
   },
   "file_extension": ".py",
   "mimetype": "text/x-python",
   "name": "python",
   "nbconvert_exporter": "python",
   "pygments_lexer": "ipython3",
   "version": "3.8.10"
  }
 },
 "nbformat": 4,
 "nbformat_minor": 5
}
