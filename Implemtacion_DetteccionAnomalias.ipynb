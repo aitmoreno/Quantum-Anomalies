{
 "cells": [
  {
   "cell_type": "code",
   "execution_count": 1,
   "id": "e72fc2ca-b491-4bf1-a18c-1ff26f51e010",
   "metadata": {},
   "outputs": [
    {
     "name": "stdout",
     "output_type": "stream",
     "text": [
      "Done!\n"
     ]
    }
   ],
   "source": [
    "# INITIALIZATION\n",
    "\n",
    "import numpy as np\n",
    "\n",
    "# Importing standard Qiskit libraries\n",
    "from qiskit import QuantumCircuit, transpile, Aer, IBMQ\n",
    "from qiskit.tools.jupyter import *\n",
    "from qiskit.visualization import *\n",
    "from ibm_quantum_widgets import *\n",
    "from qiskit.providers.aer import QasmSimulator\n",
    "from qiskit import *\n",
    "from qiskit.circuit.library import ZZFeatureMap\n",
    "from qiskit.compiler import transpile, assemble\n",
    "from qiskit.utils import QuantumInstance, algorithm_globals\n",
    "from qiskit_machine_learning.algorithms import QSVR\n",
    "from qiskit_machine_learning.kernels import QuantumKernel\n",
    "from ibm_quantum_widgets import *\n",
    "from sklearn.model_selection import train_test_split\n",
    "from sklearn.preprocessing import StandardScaler\n",
    "from scipy.linalg import expm\n",
    "import math\n",
    "import numpy as np\n",
    "import matplotlib.pyplot as plt\n",
    "import random\n",
    "import time\n",
    "\n",
    "# Loading your IBM Quantum account(s)\n",
    "provider = IBMQ.load_account()\n",
    "\n",
    "print(\"Done!\")"
   ]
  },
  {
   "cell_type": "code",
   "execution_count": null,
   "id": "253ff570-c117-463d-b122-f01bbf9f514d",
   "metadata": {},
   "outputs": [],
   "source": [
    "# OBTAIN DATA\n",
    "import pandas as pd\n",
    "\n",
    "!pip install git+https://github.com/jundongl/scikit-feature.git\n",
    "\n",
    "#Leer fichero de datos\n",
    "data = pd.read_csv('ETL_Jerarquia_0_v1.csv', sep=';') #leer csv\n",
    "#Guardar nombres de las columnas\n",
    "colNames = data.columns\n",
    "#Crear una copia del dataframe original\n",
    "OriginalData=data.copy()\n",
    "\n",
    "#Preprocesar columnas 0-1 (IPs) y 5-6 (valores con millares representados con puntos) \n",
    "#Quitar puntos de las columnas\n",
    "#Columna de IPs\n",
    "print(data.iloc[:,0].head(n=4))\n",
    "for i in np.array([0,1,5,6]):\n",
    "    data.iloc[:,i] = data.iloc[:,i].apply(lambda x: x.replace('.',''))\n",
    "\n",
    "#Eliminar filas con IPv6, no se pueden representar como numeros para el qPCA\n",
    "#Todos los IPv6s comienzan con 2001:dbb, comprobar si hay : entre las posiciones 3 y 5 del string\n",
    "#para saber si es IPv6\n",
    "indicesFilas=[]\n",
    "for i in range (0,len(data)):\n",
    "    if (data.iloc[i,0].find(':',3,5)!=-1):\n",
    "        indicesFilas.append(i)\n",
    "\n",
    "#Eliminar las filas con IPs detectadas como IPv6\n",
    "data=data.drop(indicesFilas)\n",
    "\n",
    "#Poner las columnas preprocesadas en tipo integer ()\n",
    "data=data.astype('int64')\n",
    "\n",
    "#Estandarizar datos \n",
    "data=StandardScaler().fit_transform(data)\n",
    "#Pasar datos a dataframe \n",
    "data=pd.DataFrame(data)\n",
    "#Reasignar los nombres a las columnas\n",
    "data.columns = colNames\n",
    "\n",
    "# Feature selection\n",
    "kwargs = {'style': 1}\n",
    "feats=SPEC.spec(data.to_numpy(), **kwargs)\n",
    "\n",
    "#Indices de mayor a menor de los valores de ranking del SPEC feature selection\n",
    "index = feats.argsort()[::-1]\n",
    "fsData=data.iloc[:,index[0:4]]\n",
    "\n",
    "#Correlaciones entre variables ordenadas de mayor a menor eliminando los pares centrales\n",
    "correlations=data.corr(method='kendall').abs().unstack().sort_values(ascending=True).drop_duplicates().dropna()\n",
    "\n",
    "#Obtener los nombres de los dos pares de variables menos correladas\n",
    "feats=list(correlations.index[0]+correlations.index[1])\n",
    "#Escoger las variables de la base de datos original\n",
    "fsData=data[feats]\n",
    "\n",
    "#Matriz de covarianza de los datos\n",
    "cmat = np.cov(fsData, rowvar=False)\n",
    "p=cmat/cmat.trace()\n",
    "\n",
    "print(p)"
   ]
  },
  {
   "cell_type": "code",
   "execution_count": null,
   "id": "3c8cec5f-3ffc-40bb-8963-d15892f187bc",
   "metadata": {},
   "outputs": [],
   "source": [
    "# Como no consigo descargar los datos originales, copio las mismas puertas que en circuito"
   ]
  },
  {
   "cell_type": "code",
   "execution_count": 5,
   "id": "9363a333-26f1-4340-b69f-c0a5f312906f",
   "metadata": {},
   "outputs": [
    {
     "name": "stdout",
     "output_type": "stream",
     "text": [
      "Circuit depth = 89\n",
      "Eigenvector obtenido:  [0.4246502900652006, 0.4616435357484827, 0.5121475197315839, 0.5867386940384682]\n",
      "Circuit depth = 89\n",
      "Eigenvector obtenido:  [0.492887262066433, 0.5420196589926082, 0.4317877695883728, 0.5261522196019802]\n",
      "Circuit depth = 89\n",
      "Eigenvector obtenido:  [0.49021431794612025, 0.46589082794780523, 0.5427463895880402, 0.4980582450917523]\n",
      "Circuit depth = 89\n",
      "Eigenvector obtenido:  [0.5094526324721704, 0.5168902906024488, 0.5456280085040742, 0.41901374569812083]\n",
      "Circuit depth = 89\n",
      "Eigenvector obtenido:  [0.48454371185234896, 0.5437390678561211, 0.41702882811414954, 0.5437390678561211]\n",
      "Circuit depth = 89\n",
      "Eigenvector obtenido:  [0.5030030300035687, 0.5264108981916501, 0.490880693673816, 0.4784513169075851]\n"
     ]
    }
   ],
   "source": [
    "# PROGRAMA PRINCIPAL\n",
    "\n",
    "#Primer estado para la inicialización\n",
    "stateVec = np.array([1/2, 1/2, 1/2, 1/2])\n",
    "\n",
    "#Ciclo principal para actualizar los qubits data\n",
    "for iter in range(6):\n",
    "    #Crear circuito con 5 qubits\n",
    "    circuit = QuantumCircuit(6,6)\n",
    "    \n",
    "    #Inicializacion qubits data\n",
    "    circuit.initialize(stateVec,range(4,6))\n",
    "\n",
    "    #Aplicar puertas de hadamard a qubits 0,1,2,3 para aplicar Quantum Amplitude Estimation sobre la matriz unitaria\n",
    "    circuit.h([0,1,2,3])\n",
    "\n",
    "    #Calcular rotaciones de la puerta de la matriz unitaria\n",
    "    #(theta, phi, lamb) = qiskit.quantum_info.OneQubitEulerDecomposer(basis='U3').angles(expm(2*1j*np.pi*p))\n",
    "    (theta, phi, lamb) = (0.0632, 4.63, -1.48)\n",
    "    #Aplicar rotaciones\n",
    "    circuit.cu(theta,phi,lamb,0, 3, [4,5])\n",
    "    #Calcular rotaciones de la puerta de la matriz unitaria aplicada dos veces, Quantum Amplitude Estimation\n",
    "    #(theta2, phi2, lamb2) = qiskit.quantum_info.OneQubitEulerDecomposer(basis='U3').angles(expm(2*1j*np.pi*p*2))\n",
    "    (theta2, phi2, lamb2) = (0.13, -4.88, -1.4)\n",
    "    #Aplicar rotaciones\n",
    "    circuit.cu(theta2,phi2,lamb2,0, 2, [4,5])\n",
    "    #Calcular rotaciones de la puerta de la matriz unitaria aplicada cuatro veces, Quantum Amplitude Estimation\n",
    "    #(theta3, phi3, lamb3) = qiskit.quantum_info.OneQubitEulerDecomposer(basis='U3').angles(expm(2*1j*np.pi*p*4))\n",
    "    (theta3, phi3, lamb3) = (0.292, 1.24, -1.24)\n",
    "    #Aplicar rotaciones\n",
    "    circuit.cu(theta3,phi3,lamb3,0, 1, [4,5])\n",
    "    #Calcular rotaciones de la puerta de la matriz unitaria aplicada ocho veces, Quantum Amplitude Estimation\n",
    "    #(theta4, phi4, lamb4) = qiskit.quantum_info.OneQubitEulerDecomposer(basis='U3').angles(expm(2*1j*np.pi*p*8))\n",
    "    (theta4, phi4, lamb4) = (0.89, 1.01, -0.976)\n",
    "    #Aplicar rotaciones\n",
    "    circuit.cu(theta4,phi4,lamb4,0, 0, [4,5])\n",
    "\n",
    "    #Aplicar Quantum Fourier Transform en los qubits 0,1,2,3\n",
    "    circuit.h(0)\n",
    "    circuit.crz(-np.pi/2,0,1)\n",
    "    circuit.h(1)\n",
    "    circuit.crz(-np.pi/2,1,2)\n",
    "    circuit.crz(-np.pi/4,0,2)\n",
    "    circuit.h(2)\n",
    "    circuit.crz(-np.pi/2,2,3)\n",
    "    circuit.crz(-np.pi/4,1,3)\n",
    "    circuit.crz(-np.pi/8,0,3)\n",
    "    circuit.h(3)\n",
    "\n",
    "    #Medir los qubits\n",
    "    circuit.measure([0,1,2,3,4,5], [0,1,2,3,4,5])\n",
    "\n",
    "    #Seleccionar backend\n",
    "    provider = IBMQ.get_provider(hub='ibm-q-lantik', group='ehu-upv', project='proyecto1')\n",
    "    backend = provider.backend.ibmq_jakarta\n",
    "\n",
    "    #Transpilar y quedarse con el circuito más corto\n",
    "    best_depth = 10**10\n",
    "    for i in range(50):\n",
    "        trans_circuit = transpile(circuit, backend=backend, optimization_level=random.randint(0,3))\n",
    "        aux_depth = trans_circuit.depth()\n",
    "        if aux_depth < best_depth:\n",
    "            best_circuit = trans_circuit\n",
    "            best_depth = aux_depth\n",
    "\n",
    "    print(\"Circuit depth = \"+str(best_depth))  \n",
    "\n",
    "    #Ejecutar circuito en el simulador y guardar resultados obtenidos\n",
    "    #job = execute(best_circuit, backend=BasicAer.get_backend('qasm_simulator'), shots=10000)\n",
    "    job = execute(best_circuit, backend=backend, shots=10000)\n",
    "    \n",
    "    #Obtener resultados, puede ocurrir que alguno de los estados de la base no se midan\n",
    "    results = job.result().get_counts()    \n",
    "    try:\n",
    "        r1 = results['001111']\n",
    "    except:\n",
    "        r1 = 0\n",
    "    try:\n",
    "        r2 = results['011111']\n",
    "    except:\n",
    "        r2 = 0\n",
    "    try:\n",
    "        r3 = results['101111']\n",
    "    except:\n",
    "        r3 = 0\n",
    "    try:\n",
    "        r4 = results['111111']\n",
    "    except:\n",
    "        r4 = 0\n",
    "\n",
    "    #Calcular coeficientes del eigenvector en proyeccion 1111 (00,01,10,11); segunda proyeccion en 1110 segundo eigenvec????? \n",
    "    denominator = r1 + r2 + r3 + r4\n",
    "    alpha1 = np.sqrt(r1 / denominator)\n",
    "    alpha2 = np.sqrt(r2 / denominator)\n",
    "    alpha3 = np.sqrt(r3 / denominator)\n",
    "    alpha4 = np.sqrt(r4 / denominator)\n",
    "\n",
    "    #Guardar nuevo estado inicial para la siguiente ejecucion\n",
    "    stateVec = [alpha1, alpha2, alpha3, alpha4]\n",
    "\n",
    "    print(\"Eigenvector obtenido: \", stateVec)\n",
    "    \n",
    "    #Tiempo de espera para no sobrecargar de querys el servidor\n",
    "    time.sleep(60)\n",
    "\n"
   ]
  },
  {
   "cell_type": "code",
   "execution_count": null,
   "id": "1f876938-36f8-4bc0-a118-552b78ab1796",
   "metadata": {},
   "outputs": [],
   "source": []
  }
 ],
 "metadata": {
  "kernelspec": {
   "display_name": "Qiskit v0.33.1 (ipykernel)",
   "language": "python",
   "name": "python3"
  },
  "language_info": {
   "codemirror_mode": {
    "name": "ipython",
    "version": 3
   },
   "file_extension": ".py",
   "mimetype": "text/x-python",
   "name": "python",
   "nbconvert_exporter": "python",
   "pygments_lexer": "ipython3",
   "version": "3.8.10"
  },
  "widgets": {
   "application/vnd.jupyter.widget-state+json": {
    "state": {
     "00ed3cbb61fa4f88a54091a97cd1402d": {
      "model_module": "@jupyter-widgets/controls",
      "model_module_version": "1.5.0",
      "model_name": "HTMLModel",
      "state": {
       "layout": "IPY_MODEL_5eb0d5000687429a9f55ff6e6b7f8753",
       "style": "IPY_MODEL_616859e106914e40872ab4dadb7d76de",
       "value": "<h5>Queue</h5>"
      }
     },
     "02acd4e1071c418798b2338b1370999f": {
      "model_module": "@jupyter-widgets/controls",
      "model_module_version": "1.5.0",
      "model_name": "DescriptionStyleModel",
      "state": {
       "description_width": ""
      }
     },
     "033d62ee6b7f4186a5be27cf631c8471": {
      "model_module": "@jupyter-widgets/base",
      "model_module_version": "1.2.0",
      "model_name": "LayoutModel",
      "state": {
       "margin": "0px 5px 0px 0px",
       "width": "32px"
      }
     },
     "0616539831104bff915d247e924bbaaf": {
      "model_module": "@jupyter-widgets/controls",
      "model_module_version": "1.5.0",
      "model_name": "ButtonModel",
      "state": {
       "button_style": "primary",
       "description": "Clear",
       "layout": "IPY_MODEL_c23e40c855e7458fa5309e865fb0a181",
       "style": "IPY_MODEL_104adbf0d7aa4542b81597260a0b40a0"
      }
     },
     "0666412419894dde92afa113b0536363": {
      "model_module": "@jupyter-widgets/controls",
      "model_module_version": "1.5.0",
      "model_name": "HTMLModel",
      "state": {
       "layout": "IPY_MODEL_211f3c06b8e84370937ac465b902d518",
       "style": "IPY_MODEL_d44b3b50667647f99008064ab4a1e691",
       "value": "61bf2e1c81db3e233784e20c"
      }
     },
     "07509c42d58949a8bce39cc5df5e8303": {
      "model_module": "@jupyter-widgets/controls",
      "model_module_version": "1.5.0",
      "model_name": "DescriptionStyleModel",
      "state": {
       "description_width": ""
      }
     },
     "08c4c1ecd1044b929e61e95203a0447d": {
      "model_module": "@jupyter-widgets/controls",
      "model_module_version": "1.5.0",
      "model_name": "ButtonModel",
      "state": {
       "icon": "close",
       "layout": "IPY_MODEL_033d62ee6b7f4186a5be27cf631c8471",
       "style": "IPY_MODEL_3d2a68d3563f4fe6bf7eebb882423a03"
      }
     },
     "0a24d80802cf45f782487d3e84409800": {
      "model_module": "@jupyter-widgets/controls",
      "model_module_version": "1.5.0",
      "model_name": "HTMLModel",
      "state": {
       "layout": "IPY_MODEL_4e025ec17ae4463da97878e6b9a02b8c",
       "style": "IPY_MODEL_bd34d6ef5111474f9ee2f57c019675b3",
       "value": "<font style='color:#34BC6E'>DONE</font>"
      }
     },
     "0daa38f23b7d456fb06e0b324b3305ae": {
      "model_module": "@jupyter-widgets/base",
      "model_module_version": "1.2.0",
      "model_name": "LayoutModel",
      "state": {
       "max_width": "700px",
       "min_width": "700px"
      }
     },
     "104adbf0d7aa4542b81597260a0b40a0": {
      "model_module": "@jupyter-widgets/controls",
      "model_module_version": "1.5.0",
      "model_name": "ButtonStyleModel",
      "state": {}
     },
     "140512ef767c4118a83efe3ef68bc58f": {
      "model_module": "@jupyter-widgets/base",
      "model_module_version": "1.2.0",
      "model_name": "LayoutModel",
      "state": {
       "margin": "0px 5px 0px 0px",
       "width": "32px"
      }
     },
     "14bd42de3e6244ae85069697aeb0d1bf": {
      "model_module": "@jupyter-widgets/controls",
      "model_module_version": "1.5.0",
      "model_name": "DescriptionStyleModel",
      "state": {
       "description_width": ""
      }
     },
     "1523502f963a4580a55622ddc2bd4b5e": {
      "model_module": "@jupyter-widgets/controls",
      "model_module_version": "1.5.0",
      "model_name": "HTMLModel",
      "state": {
       "layout": "IPY_MODEL_f5f092af4bec494fa9c03a794147ae01",
       "style": "IPY_MODEL_28a22dc54a0a4acea8c5ab0fd53d6bcc",
       "value": "61bf2d63a81fcf2a8ad1b516"
      }
     },
     "15aeb5153cbf4d358258efa27c071bb9": {
      "model_module": "@jupyter-widgets/controls",
      "model_module_version": "1.5.0",
      "model_name": "HTMLModel",
      "state": {
       "layout": "IPY_MODEL_5aeed9eda37d4b8f8bbdfe8376cff98c",
       "style": "IPY_MODEL_3c812aedf8214812b85ee5b2beb8cc7d",
       "value": "-"
      }
     },
     "18537a741a6046dca3c5f71949ecf459": {
      "model_module": "@jupyter-widgets/controls",
      "model_module_version": "1.5.0",
      "model_name": "DescriptionStyleModel",
      "state": {
       "description_width": ""
      }
     },
     "1ae3db3ebc76416f917a86ec092a9893": {
      "model_module": "@jupyter-widgets/base",
      "model_module_version": "1.2.0",
      "model_name": "LayoutModel",
      "state": {
       "width": "70px"
      }
     },
     "1cc881af54904c1faa73e128d1a27320": {
      "model_module": "@jupyter-widgets/base",
      "model_module_version": "1.2.0",
      "model_name": "LayoutModel",
      "state": {
       "width": "70px"
      }
     },
     "211f3c06b8e84370937ac465b902d518": {
      "model_module": "@jupyter-widgets/base",
      "model_module_version": "1.2.0",
      "model_name": "LayoutModel",
      "state": {
       "width": "190px"
      }
     },
     "21221df6d91940d8be8fa92c0e361d7b": {
      "model_module": "@jupyter-widgets/controls",
      "model_module_version": "1.5.0",
      "model_name": "HTMLModel",
      "state": {
       "layout": "IPY_MODEL_da5d10a8c771415e8ff60a36e55a10f3",
       "style": "IPY_MODEL_d1424f2ca9564b829b02f1d0ef965cef",
       "value": "<font style='color:#34BC6E'>DONE</font>"
      }
     },
     "21c76f707790416791cc4dace26bff32": {
      "model_module": "@jupyter-widgets/base",
      "model_module_version": "1.2.0",
      "model_name": "LayoutModel",
      "state": {
       "width": "70px"
      }
     },
     "21e654b249a74be58e8923f094f61e89": {
      "model_module": "@jupyter-widgets/controls",
      "model_module_version": "1.5.0",
      "model_name": "HTMLModel",
      "state": {
       "layout": "IPY_MODEL_c9dfa7b188334f4d8d01e9327deea313",
       "style": "IPY_MODEL_7308304bfeba4c8f87ba7053010b556a",
       "value": "<font style='color:#34BC6E'>DONE</font>"
      }
     },
     "22c28eb74a364ef1bac6b07b764e6495": {
      "model_module": "@jupyter-widgets/controls",
      "model_module_version": "1.5.0",
      "model_name": "DescriptionStyleModel",
      "state": {
       "description_width": ""
      }
     },
     "25abab14a99b4d09922819bd6f5a8494": {
      "model_module": "@jupyter-widgets/controls",
      "model_module_version": "1.5.0",
      "model_name": "HBoxModel",
      "state": {
       "children": [
        "IPY_MODEL_d00a11df5a6b4692bb18d9bcd1599262",
        "IPY_MODEL_6b06f5e4def949e89d0bc35a9a54fa7b",
        "IPY_MODEL_ab18e95463884ba8af0f8e672dae0bbb",
        "IPY_MODEL_ea13434e65074307874ec6523ffe9132",
        "IPY_MODEL_64f74c5d01f748c8a8c7dd1daac70622"
       ],
       "layout": "IPY_MODEL_d5e20ac7991649569c954f60203a181e"
      }
     },
     "26e732b796254949a6523d2a6e7be68d": {
      "model_module": "@jupyter-widgets/controls",
      "model_module_version": "1.5.0",
      "model_name": "DescriptionStyleModel",
      "state": {
       "description_width": ""
      }
     },
     "28a22dc54a0a4acea8c5ab0fd53d6bcc": {
      "model_module": "@jupyter-widgets/controls",
      "model_module_version": "1.5.0",
      "model_name": "DescriptionStyleModel",
      "state": {
       "description_width": ""
      }
     },
     "2a195a0e777a4112a46733e943540798": {
      "model_module": "@jupyter-widgets/base",
      "model_module_version": "1.2.0",
      "model_name": "LayoutModel",
      "state": {
       "margin": "0px 5px 0px 0px",
       "width": "32px"
      }
     },
     "2d02c3f52ba74de287c30be25637b1ec": {
      "model_module": "@jupyter-widgets/controls",
      "model_module_version": "1.5.0",
      "model_name": "DescriptionStyleModel",
      "state": {
       "description_width": ""
      }
     },
     "2e44a156e97e49388de304628333b6d1": {
      "model_module": "@jupyter-widgets/controls",
      "model_module_version": "1.5.0",
      "model_name": "HTMLModel",
      "state": {
       "layout": "IPY_MODEL_e8a39e208f734c29b85554f606d56deb",
       "style": "IPY_MODEL_2d02c3f52ba74de287c30be25637b1ec",
       "value": "<font style='color:#34BC6E'>DONE</font>"
      }
     },
     "2eec0e29e23348858dcee327ad3c5f73": {
      "model_module": "@jupyter-widgets/controls",
      "model_module_version": "1.5.0",
      "model_name": "ButtonModel",
      "state": {
       "icon": "close",
       "layout": "IPY_MODEL_e08f58c8826545db80c5e8b39c3b8f37",
       "style": "IPY_MODEL_371593e0732f47bc96bad4c40e8dc596"
      }
     },
     "2fb11692a3c1476e82a7edbc81ca5785": {
      "model_module": "@jupyter-widgets/controls",
      "model_module_version": "1.5.0",
      "model_name": "DescriptionStyleModel",
      "state": {
       "description_width": ""
      }
     },
     "368462056bf94445a317e7002e87bb9a": {
      "model_module": "@jupyter-widgets/controls",
      "model_module_version": "1.5.0",
      "model_name": "ButtonStyleModel",
      "state": {
       "button_color": "white"
      }
     },
     "371593e0732f47bc96bad4c40e8dc596": {
      "model_module": "@jupyter-widgets/controls",
      "model_module_version": "1.5.0",
      "model_name": "ButtonStyleModel",
      "state": {
       "button_color": "white"
      }
     },
     "3843606cccdb4d55a69339ea80abe087": {
      "model_module": "@jupyter-widgets/controls",
      "model_module_version": "1.5.0",
      "model_name": "ButtonModel",
      "state": {
       "icon": "close",
       "layout": "IPY_MODEL_cbcce37cd1394d76b485c05f307950d8",
       "style": "IPY_MODEL_7d7deb35bd8746cfb74e35031d947e95"
      }
     },
     "387dcaa2feb644c192f166cd4dff44e0": {
      "model_module": "@jupyter-widgets/base",
      "model_module_version": "1.2.0",
      "model_name": "LayoutModel",
      "state": {
       "width": "190px"
      }
     },
     "39ddbcf4b0554ecc8292c94af2d6628f": {
      "model_module": "@jupyter-widgets/controls",
      "model_module_version": "1.5.0",
      "model_name": "HTMLModel",
      "state": {
       "layout": "IPY_MODEL_cef9a04a12c84a48bba5e780ab87bb5c",
       "style": "IPY_MODEL_dc07571ebc3b4e7c98f7327b8bff0e13",
       "value": "ibmq_jakarta"
      }
     },
     "39e595f6ba7c44c5a82c672184e0e984": {
      "model_module": "@jupyter-widgets/base",
      "model_module_version": "1.2.0",
      "model_name": "LayoutModel",
      "state": {
       "margin": "0px 0px 10px 0px"
      }
     },
     "3a78f128b1394d2aa631860e9d02e1b5": {
      "model_module": "@jupyter-widgets/controls",
      "model_module_version": "1.5.0",
      "model_name": "HTMLModel",
      "state": {
       "layout": "IPY_MODEL_b45985551ec744dbbf798bd74bb9e80b",
       "style": "IPY_MODEL_14bd42de3e6244ae85069697aeb0d1bf",
       "value": "61bf2dc2a81fcf24aad1b517"
      }
     },
     "3c812aedf8214812b85ee5b2beb8cc7d": {
      "model_module": "@jupyter-widgets/controls",
      "model_module_version": "1.5.0",
      "model_name": "DescriptionStyleModel",
      "state": {
       "description_width": ""
      }
     },
     "3d2a68d3563f4fe6bf7eebb882423a03": {
      "model_module": "@jupyter-widgets/controls",
      "model_module_version": "1.5.0",
      "model_name": "ButtonStyleModel",
      "state": {
       "button_color": "white"
      }
     },
     "3eb2f9d0429a4673bae558d98463373d": {
      "model_module": "@jupyter-widgets/controls",
      "model_module_version": "1.5.0",
      "model_name": "ButtonModel",
      "state": {
       "button_style": "primary",
       "description": "Clear",
       "layout": "IPY_MODEL_471959009b934e64beb86727f2a82359",
       "style": "IPY_MODEL_fcc2146f717d4fd6a75cf0241fde6a5e"
      }
     },
     "4102104c73184db1a6d9c4a85ef6e26c": {
      "model_module": "@jupyter-widgets/base",
      "model_module_version": "1.2.0",
      "model_name": "LayoutModel",
      "state": {
       "width": "95px"
      }
     },
     "4442b6a4532a4c5fbf02202e2c8e4243": {
      "model_module": "@jupyter-widgets/controls",
      "model_module_version": "1.5.0",
      "model_name": "GridBoxModel",
      "state": {
       "children": [
        "IPY_MODEL_3eb2f9d0429a4673bae558d98463373d"
       ],
       "layout": "IPY_MODEL_a3f42e38885241a5988cfb9af712d808"
      }
     },
     "446ca27bbf8a4723b679824c039e0961": {
      "model_module": "@jupyter-widgets/controls",
      "model_module_version": "1.5.0",
      "model_name": "DescriptionStyleModel",
      "state": {
       "description_width": ""
      }
     },
     "44c87a9061154c29bc555c21a50de0db": {
      "model_module": "@jupyter-widgets/controls",
      "model_module_version": "1.5.0",
      "model_name": "HBoxModel",
      "state": {
       "children": [
        "IPY_MODEL_8b5857d05cf34f37afd720e6ff728c60",
        "IPY_MODEL_9f2f7efc44f346458bcb56f590a0d4b4",
        "IPY_MODEL_635a412b740f4bf69284f60940c6be9b",
        "IPY_MODEL_00ed3cbb61fa4f88a54091a97cd1402d",
        "IPY_MODEL_c57ccfc3f1c142cca2dc9c894e82c050"
       ],
       "layout": "IPY_MODEL_77af34f9613d4fe09dadb1d87b0f59f6"
      }
     },
     "46c3ba6a38e94571a16d7954d1f86509": {
      "model_module": "@jupyter-widgets/base",
      "model_module_version": "1.2.0",
      "model_name": "LayoutModel",
      "state": {
       "overflow_x": "scroll"
      }
     },
     "471959009b934e64beb86727f2a82359": {
      "model_module": "@jupyter-widgets/base",
      "model_module_version": "1.2.0",
      "model_name": "LayoutModel",
      "state": {
       "grid_area": "right",
       "padding": "0px 0px 0px 0px",
       "width": "70px"
      }
     },
     "477e2421f0c94bce8971f68a7cd7b9e3": {
      "model_module": "@jupyter-widgets/base",
      "model_module_version": "1.2.0",
      "model_name": "LayoutModel",
      "state": {
       "max_width": "700px",
       "min_width": "700px"
      }
     },
     "4e025ec17ae4463da97878e6b9a02b8c": {
      "model_module": "@jupyter-widgets/base",
      "model_module_version": "1.2.0",
      "model_name": "LayoutModel",
      "state": {
       "width": "95px"
      }
     },
     "4e37c38a6e7647449e24b716f01c4c65": {
      "model_module": "@jupyter-widgets/controls",
      "model_module_version": "1.5.0",
      "model_name": "ButtonModel",
      "state": {
       "icon": "close",
       "layout": "IPY_MODEL_c29c148ebbec4ecd84d62edf00cbee58",
       "style": "IPY_MODEL_6227e047920044abbd30d214b4f637b5"
      }
     },
     "4e6ba7d6170d41a69354aa8b7e4a55bd": {
      "model_module": "@jupyter-widgets/controls",
      "model_module_version": "1.5.0",
      "model_name": "DescriptionStyleModel",
      "state": {
       "description_width": ""
      }
     },
     "4e791de30e844647a4151337fbe9b060": {
      "model_module": "@jupyter-widgets/controls",
      "model_module_version": "1.5.0",
      "model_name": "HBoxModel",
      "state": {
       "children": [
        "IPY_MODEL_2eec0e29e23348858dcee327ad3c5f73",
        "IPY_MODEL_3a78f128b1394d2aa631860e9d02e1b5",
        "IPY_MODEL_8182c982fdac4c5483c8e1a6338905fa",
        "IPY_MODEL_21221df6d91940d8be8fa92c0e361d7b",
        "IPY_MODEL_7815b4ce99654dcda7866d39b1dedf2f",
        "IPY_MODEL_d3a852cce0e1467c9f38643eaeb93674"
       ],
       "layout": "IPY_MODEL_477e2421f0c94bce8971f68a7cd7b9e3"
      }
     },
     "4f95640b3d9f4028ba8d2fc5de904974": {
      "model_module": "@jupyter-widgets/controls",
      "model_module_version": "1.5.0",
      "model_name": "HTMLModel",
      "state": {
       "layout": "IPY_MODEL_dc319f858ea94215943ce09d1a5c6187",
       "style": "IPY_MODEL_4fa68e94111442b78f54ff8deefcbac6",
       "value": "ibmq_jakarta"
      }
     },
     "4fa68e94111442b78f54ff8deefcbac6": {
      "model_module": "@jupyter-widgets/controls",
      "model_module_version": "1.5.0",
      "model_name": "DescriptionStyleModel",
      "state": {
       "description_width": ""
      }
     },
     "521505e31cf4411ea961b28671cab04a": {
      "model_module": "@jupyter-widgets/controls",
      "model_module_version": "1.5.0",
      "model_name": "DescriptionStyleModel",
      "state": {
       "description_width": ""
      }
     },
     "5462ebbb5a8a4b3fb04ffd5ec9e624c6": {
      "model_module": "@jupyter-widgets/base",
      "model_module_version": "1.2.0",
      "model_name": "LayoutModel",
      "state": {
       "width": "70px"
      }
     },
     "551369f9ff8b4ab0bc4a005493cf69b3": {
      "model_module": "@jupyter-widgets/base",
      "model_module_version": "1.2.0",
      "model_name": "LayoutModel",
      "state": {
       "max_width": "700px",
       "min_width": "700px"
      }
     },
     "57b73e3b58a6472294d662205194bf49": {
      "model_module": "@jupyter-widgets/controls",
      "model_module_version": "1.5.0",
      "model_name": "HTMLModel",
      "state": {
       "layout": "IPY_MODEL_5f71b62f2822434bbe8df89b4b2307b1",
       "style": "IPY_MODEL_18537a741a6046dca3c5f71949ecf459",
       "value": "job has successfully run"
      }
     },
     "5aeed9eda37d4b8f8bbdfe8376cff98c": {
      "model_module": "@jupyter-widgets/base",
      "model_module_version": "1.2.0",
      "model_name": "LayoutModel",
      "state": {
       "width": "70px"
      }
     },
     "5bf6440e42fd4e46b4f2da8b71747d4c": {
      "model_module": "@jupyter-widgets/controls",
      "model_module_version": "1.5.0",
      "model_name": "HTMLModel",
      "state": {
       "layout": "IPY_MODEL_a0e928653de9453b91d734dee182b846",
       "style": "IPY_MODEL_02acd4e1071c418798b2338b1370999f",
       "value": "<p style='font-family: IBM Plex Sans, Arial, Helvetica, sans-serif; font-size: 20px; font-weight: medium;'>Circuit Properties</p>"
      }
     },
     "5d86921022e14e059e825895e2e06ea3": {
      "model_module": "@jupyter-widgets/controls",
      "model_module_version": "1.5.0",
      "model_name": "DescriptionStyleModel",
      "state": {
       "description_width": ""
      }
     },
     "5d90d196a2db43b79c157b3039939f20": {
      "model_module": "@jupyter-widgets/controls",
      "model_module_version": "1.5.0",
      "model_name": "GridBoxModel",
      "state": {
       "children": [
        "IPY_MODEL_0616539831104bff915d247e924bbaaf"
       ],
       "layout": "IPY_MODEL_695bf525341f46408da20ef55b9e7daa"
      }
     },
     "5e50310f24b34e1ab57cc99da72c852b": {
      "model_module": "@jupyter-widgets/controls",
      "model_module_version": "1.5.0",
      "model_name": "HTMLModel",
      "state": {
       "layout": "IPY_MODEL_4102104c73184db1a6d9c4a85ef6e26c",
       "style": "IPY_MODEL_6f7f57b67ca6475786d783d370a4ba36",
       "value": "<font style='color:#34BC6E'>DONE</font>"
      }
     },
     "5eb0d5000687429a9f55ff6e6b7f8753": {
      "model_module": "@jupyter-widgets/base",
      "model_module_version": "1.2.0",
      "model_name": "LayoutModel",
      "state": {
       "width": "70px"
      }
     },
     "5f71b62f2822434bbe8df89b4b2307b1": {
      "model_module": "@jupyter-widgets/base",
      "model_module_version": "1.2.0",
      "model_name": "LayoutModel",
      "state": {
       "overflow_x": "scroll"
      }
     },
     "60b3e88233d745ccb3dc35c60116d3ab": {
      "model_module": "@jupyter-widgets/controls",
      "model_module_version": "1.5.0",
      "model_name": "HTMLModel",
      "state": {
       "layout": "IPY_MODEL_9a417a0fbf1b4f8096402648f6fa9714",
       "style": "IPY_MODEL_f84deefa563e4dc9bbd83738cce2d317",
       "value": "ibmq_jakarta"
      }
     },
     "616859e106914e40872ab4dadb7d76de": {
      "model_module": "@jupyter-widgets/controls",
      "model_module_version": "1.5.0",
      "model_name": "DescriptionStyleModel",
      "state": {
       "description_width": ""
      }
     },
     "6227e047920044abbd30d214b4f637b5": {
      "model_module": "@jupyter-widgets/controls",
      "model_module_version": "1.5.0",
      "model_name": "ButtonStyleModel",
      "state": {
       "button_color": "white"
      }
     },
     "63597324875842c28c1513ffa04aef80": {
      "model_module": "@jupyter-widgets/controls",
      "model_module_version": "1.5.0",
      "model_name": "HBoxModel",
      "state": {
       "children": [
        "IPY_MODEL_4e37c38a6e7647449e24b716f01c4c65",
        "IPY_MODEL_cc7e594c7d7e4b259367a068d6e4391b",
        "IPY_MODEL_fe2021ea796245d0a1ec910b403a18f9",
        "IPY_MODEL_5e50310f24b34e1ab57cc99da72c852b",
        "IPY_MODEL_15aeb5153cbf4d358258efa27c071bb9",
        "IPY_MODEL_6b87a145e6f64500969cd7b9b32635c9"
       ],
       "layout": "IPY_MODEL_551369f9ff8b4ab0bc4a005493cf69b3"
      }
     },
     "635a412b740f4bf69284f60940c6be9b": {
      "model_module": "@jupyter-widgets/controls",
      "model_module_version": "1.5.0",
      "model_name": "HTMLModel",
      "state": {
       "layout": "IPY_MODEL_93235fda2edd4896bc8eed9faba1d870",
       "style": "IPY_MODEL_26e732b796254949a6523d2a6e7be68d",
       "value": "<h5>Status</h5>"
      }
     },
     "640e7770cdde406e88891083fdec95bd": {
      "model_module": "@jupyter-widgets/base",
      "model_module_version": "1.2.0",
      "model_name": "LayoutModel",
      "state": {
       "width": "190px"
      }
     },
     "64f74c5d01f748c8a8c7dd1daac70622": {
      "model_module": "@jupyter-widgets/controls",
      "model_module_version": "1.5.0",
      "model_name": "HTMLModel",
      "state": {
       "layout": "IPY_MODEL_7845970cd04c45a490d4857982722416",
       "style": "IPY_MODEL_22c28eb74a364ef1bac6b07b764e6495",
       "value": "<h5>Message</h5>"
      }
     },
     "695bf525341f46408da20ef55b9e7daa": {
      "model_module": "@jupyter-widgets/base",
      "model_module_version": "1.2.0",
      "model_name": "LayoutModel",
      "state": {
       "grid_template_areas": "\n                                       \". . . . right \"\n                                        ",
       "grid_template_columns": "20% 20% 20% 20% 20%",
       "width": "100%"
      }
     },
     "6b06f5e4def949e89d0bc35a9a54fa7b": {
      "model_module": "@jupyter-widgets/controls",
      "model_module_version": "1.5.0",
      "model_name": "HTMLModel",
      "state": {
       "layout": "IPY_MODEL_ebfaa3a880db4a7fba7b8418f2dca487",
       "style": "IPY_MODEL_fd1fa1b28a434a3c83cc1c62ab76675c",
       "value": "<h5>Backend</h5>"
      }
     },
     "6b87a145e6f64500969cd7b9b32635c9": {
      "model_module": "@jupyter-widgets/controls",
      "model_module_version": "1.5.0",
      "model_name": "HTMLModel",
      "state": {
       "layout": "IPY_MODEL_8b50658d2cdd4dc2a22ff3ffc37ad219",
       "style": "IPY_MODEL_a7d03687784045509e1bba615c0ee7f7",
       "value": "job has successfully run"
      }
     },
     "6bc2979166b54503bd33987dc7299c4c": {
      "model_module": "@jupyter-widgets/base",
      "model_module_version": "1.2.0",
      "model_name": "LayoutModel",
      "state": {
       "overflow_x": "scroll"
      }
     },
     "6f7f57b67ca6475786d783d370a4ba36": {
      "model_module": "@jupyter-widgets/controls",
      "model_module_version": "1.5.0",
      "model_name": "DescriptionStyleModel",
      "state": {
       "description_width": ""
      }
     },
     "6ff4fec2a9304106a3fdc4e07eaba618": {
      "model_module": "@jupyter-widgets/controls",
      "model_module_version": "1.5.0",
      "model_name": "HTMLModel",
      "state": {
       "layout": "IPY_MODEL_39e595f6ba7c44c5a82c672184e0e984",
       "style": "IPY_MODEL_4e6ba7d6170d41a69354aa8b7e4a55bd",
       "value": "<p style='font-family: IBM Plex Sans, Arial, Helvetica, sans-serif; font-size: 20px; font-weight: medium;'>Circuit Properties</p>"
      }
     },
     "7308304bfeba4c8f87ba7053010b556a": {
      "model_module": "@jupyter-widgets/controls",
      "model_module_version": "1.5.0",
      "model_name": "DescriptionStyleModel",
      "state": {
       "description_width": ""
      }
     },
     "7422c3b06152410cb6894e2dc9837bcc": {
      "model_module": "@jupyter-widgets/controls",
      "model_module_version": "1.5.0",
      "model_name": "DescriptionStyleModel",
      "state": {
       "description_width": ""
      }
     },
     "75be8d9d5fb342fcae9d69787daa3f22": {
      "model_module": "@jupyter-widgets/controls",
      "model_module_version": "1.5.0",
      "model_name": "HTMLModel",
      "state": {
       "layout": "IPY_MODEL_d506996a7e6d4871b93c5f38579b1f72",
       "style": "IPY_MODEL_f070c33e90a742bbb8da34ed80dcee2f",
       "value": "<font style='color:#34BC6E'>DONE</font>"
      }
     },
     "75ecd02d520a49f5a0f7d841de85e0a6": {
      "model_module": "@jupyter-widgets/controls",
      "model_module_version": "1.5.0",
      "model_name": "ButtonModel",
      "state": {
       "icon": "close",
       "layout": "IPY_MODEL_2a195a0e777a4112a46733e943540798",
       "style": "IPY_MODEL_85c6105794e746b6a8ddcb97d5fcbeab"
      }
     },
     "77af34f9613d4fe09dadb1d87b0f59f6": {
      "model_module": "@jupyter-widgets/base",
      "model_module_version": "1.2.0",
      "model_name": "LayoutModel",
      "state": {
       "margin": "0px 0px 0px 37px",
       "width": "600px"
      }
     },
     "7815b4ce99654dcda7866d39b1dedf2f": {
      "model_module": "@jupyter-widgets/controls",
      "model_module_version": "1.5.0",
      "model_name": "HTMLModel",
      "state": {
       "layout": "IPY_MODEL_fdc7291e2d74484aaf9b9c490758b3f5",
       "style": "IPY_MODEL_9f4292e70047428283825d5db9765217",
       "value": "-"
      }
     },
     "7845970cd04c45a490d4857982722416": {
      "model_module": "@jupyter-widgets/base",
      "model_module_version": "1.2.0",
      "model_name": "LayoutModel",
      "state": {}
     },
     "7b2c994aedd54952afeb0636b022ab24": {
      "model_module": "@jupyter-widgets/controls",
      "model_module_version": "1.5.0",
      "model_name": "HBoxModel",
      "state": {
       "children": [
        "IPY_MODEL_9685124f9bdd4f3eab8af2273804acc6",
        "IPY_MODEL_1523502f963a4580a55622ddc2bd4b5e",
        "IPY_MODEL_39ddbcf4b0554ecc8292c94af2d6628f",
        "IPY_MODEL_21e654b249a74be58e8923f094f61e89",
        "IPY_MODEL_b1b1b240bffd47348c67416111d0dd45",
        "IPY_MODEL_e96d83b5cd764b18952554ff4ecd9afc"
       ],
       "layout": "IPY_MODEL_9ee0494245954328b8bb0f3b040f2c5c"
      }
     },
     "7d7deb35bd8746cfb74e35031d947e95": {
      "model_module": "@jupyter-widgets/controls",
      "model_module_version": "1.5.0",
      "model_name": "ButtonStyleModel",
      "state": {
       "button_color": "white"
      }
     },
     "8182c982fdac4c5483c8e1a6338905fa": {
      "model_module": "@jupyter-widgets/controls",
      "model_module_version": "1.5.0",
      "model_name": "HTMLModel",
      "state": {
       "layout": "IPY_MODEL_a0bf82473199478b841f0ac4a4503f1c",
       "style": "IPY_MODEL_aef83b0b29cd4351bc61d2819485b753",
       "value": "ibmq_jakarta"
      }
     },
     "83a01e9d6aff4be58f0f50f07d345e53": {
      "model_module": "@jupyter-widgets/base",
      "model_module_version": "1.2.0",
      "model_name": "LayoutModel",
      "state": {
       "width": "190px"
      }
     },
     "85c6105794e746b6a8ddcb97d5fcbeab": {
      "model_module": "@jupyter-widgets/controls",
      "model_module_version": "1.5.0",
      "model_name": "ButtonStyleModel",
      "state": {
       "button_color": "white"
      }
     },
     "8b50658d2cdd4dc2a22ff3ffc37ad219": {
      "model_module": "@jupyter-widgets/base",
      "model_module_version": "1.2.0",
      "model_name": "LayoutModel",
      "state": {
       "overflow_x": "scroll"
      }
     },
     "8b5857d05cf34f37afd720e6ff728c60": {
      "model_module": "@jupyter-widgets/controls",
      "model_module_version": "1.5.0",
      "model_name": "HTMLModel",
      "state": {
       "layout": "IPY_MODEL_640e7770cdde406e88891083fdec95bd",
       "style": "IPY_MODEL_bccf637efc2c4c11a13c04165b2031ac",
       "value": "<h5>Job ID</h5>"
      }
     },
     "8e1d9d94238b4d8e9a2a12037c132391": {
      "model_module": "@jupyter-widgets/base",
      "model_module_version": "1.2.0",
      "model_name": "LayoutModel",
      "state": {
       "width": "145px"
      }
     },
     "900669c0fd38466dba024362150c572f": {
      "model_module": "@jupyter-widgets/controls",
      "model_module_version": "1.5.0",
      "model_name": "DescriptionStyleModel",
      "state": {
       "description_width": ""
      }
     },
     "93235fda2edd4896bc8eed9faba1d870": {
      "model_module": "@jupyter-widgets/base",
      "model_module_version": "1.2.0",
      "model_name": "LayoutModel",
      "state": {
       "width": "95px"
      }
     },
     "9685124f9bdd4f3eab8af2273804acc6": {
      "model_module": "@jupyter-widgets/controls",
      "model_module_version": "1.5.0",
      "model_name": "ButtonModel",
      "state": {
       "icon": "close",
       "layout": "IPY_MODEL_140512ef767c4118a83efe3ef68bc58f",
       "style": "IPY_MODEL_368462056bf94445a317e7002e87bb9a"
      }
     },
     "99434e32482e4bbe8c793dd869b4317d": {
      "model_module": "@jupyter-widgets/base",
      "model_module_version": "1.2.0",
      "model_name": "LayoutModel",
      "state": {}
     },
     "9975650cc43f48448fb02b46bcf1faf6": {
      "model_module": "@jupyter-widgets/controls",
      "model_module_version": "1.5.0",
      "model_name": "DescriptionStyleModel",
      "state": {
       "description_width": ""
      }
     },
     "9a417a0fbf1b4f8096402648f6fa9714": {
      "model_module": "@jupyter-widgets/base",
      "model_module_version": "1.2.0",
      "model_name": "LayoutModel",
      "state": {
       "width": "145px"
      }
     },
     "9ee0494245954328b8bb0f3b040f2c5c": {
      "model_module": "@jupyter-widgets/base",
      "model_module_version": "1.2.0",
      "model_name": "LayoutModel",
      "state": {
       "max_width": "700px",
       "min_width": "700px"
      }
     },
     "9f2f7efc44f346458bcb56f590a0d4b4": {
      "model_module": "@jupyter-widgets/controls",
      "model_module_version": "1.5.0",
      "model_name": "HTMLModel",
      "state": {
       "layout": "IPY_MODEL_a0f9732b53114914aef5ff8f6c92dba7",
       "style": "IPY_MODEL_9975650cc43f48448fb02b46bcf1faf6",
       "value": "<h5>Backend</h5>"
      }
     },
     "9f4292e70047428283825d5db9765217": {
      "model_module": "@jupyter-widgets/controls",
      "model_module_version": "1.5.0",
      "model_name": "DescriptionStyleModel",
      "state": {
       "description_width": ""
      }
     },
     "a0bf82473199478b841f0ac4a4503f1c": {
      "model_module": "@jupyter-widgets/base",
      "model_module_version": "1.2.0",
      "model_name": "LayoutModel",
      "state": {
       "width": "145px"
      }
     },
     "a0e928653de9453b91d734dee182b846": {
      "model_module": "@jupyter-widgets/base",
      "model_module_version": "1.2.0",
      "model_name": "LayoutModel",
      "state": {
       "margin": "0px 0px 10px 0px"
      }
     },
     "a0f9732b53114914aef5ff8f6c92dba7": {
      "model_module": "@jupyter-widgets/base",
      "model_module_version": "1.2.0",
      "model_name": "LayoutModel",
      "state": {
       "width": "145px"
      }
     },
     "a1bbe273822b413796f7baeee20df3dd": {
      "model_module": "@jupyter-widgets/base",
      "model_module_version": "1.2.0",
      "model_name": "LayoutModel",
      "state": {
       "width": "145px"
      }
     },
     "a2a7a9fede5b4fea980455c0ae3c731c": {
      "model_module": "@jupyter-widgets/controls",
      "model_module_version": "1.5.0",
      "model_name": "HTMLModel",
      "state": {
       "layout": "IPY_MODEL_cdd42ff0c24740b8b484ae2eee449f16",
       "style": "IPY_MODEL_7422c3b06152410cb6894e2dc9837bcc",
       "value": "61bf2f37a81fcf5eaad1b51b"
      }
     },
     "a3f42e38885241a5988cfb9af712d808": {
      "model_module": "@jupyter-widgets/base",
      "model_module_version": "1.2.0",
      "model_name": "LayoutModel",
      "state": {
       "grid_template_areas": "\n                                       \". . . . right \"\n                                        ",
       "grid_template_columns": "20% 20% 20% 20% 20%",
       "width": "100%"
      }
     },
     "a52d8f271da144839a43ba76ec7bda54": {
      "model_module": "@jupyter-widgets/controls",
      "model_module_version": "1.5.0",
      "model_name": "HTMLModel",
      "state": {
       "layout": "IPY_MODEL_bddb7c2b087c4e8abbaf823fde09baac",
       "style": "IPY_MODEL_f9ead15fe094456a998db8ddf15ce398",
       "value": "-"
      }
     },
     "a560bc7d9d174bb7bc01f4109e90301d": {
      "model_module": "@jupyter-widgets/base",
      "model_module_version": "1.2.0",
      "model_name": "LayoutModel",
      "state": {
       "width": "95px"
      }
     },
     "a7173d5fc2604b3cac80e335c1e62f1b": {
      "model_module": "@jupyter-widgets/controls",
      "model_module_version": "1.5.0",
      "model_name": "DescriptionStyleModel",
      "state": {
       "description_width": ""
      }
     },
     "a7d03687784045509e1bba615c0ee7f7": {
      "model_module": "@jupyter-widgets/controls",
      "model_module_version": "1.5.0",
      "model_name": "DescriptionStyleModel",
      "state": {
       "description_width": ""
      }
     },
     "ab18e95463884ba8af0f8e672dae0bbb": {
      "model_module": "@jupyter-widgets/controls",
      "model_module_version": "1.5.0",
      "model_name": "HTMLModel",
      "state": {
       "layout": "IPY_MODEL_a560bc7d9d174bb7bc01f4109e90301d",
       "style": "IPY_MODEL_bfe17c53bd8b42b39f4c04fb8cc8b1e4",
       "value": "<h5>Status</h5>"
      }
     },
     "aee17c80cd284e5d9d76fef953619e6f": {
      "model_module": "@jupyter-widgets/base",
      "model_module_version": "1.2.0",
      "model_name": "LayoutModel",
      "state": {
       "overflow_x": "scroll"
      }
     },
     "aef83b0b29cd4351bc61d2819485b753": {
      "model_module": "@jupyter-widgets/controls",
      "model_module_version": "1.5.0",
      "model_name": "DescriptionStyleModel",
      "state": {
       "description_width": ""
      }
     },
     "b1b1b240bffd47348c67416111d0dd45": {
      "model_module": "@jupyter-widgets/controls",
      "model_module_version": "1.5.0",
      "model_name": "HTMLModel",
      "state": {
       "layout": "IPY_MODEL_1cc881af54904c1faa73e128d1a27320",
       "style": "IPY_MODEL_eab5f6b1136441568485bda2c150f049",
       "value": "-"
      }
     },
     "b45985551ec744dbbf798bd74bb9e80b": {
      "model_module": "@jupyter-widgets/base",
      "model_module_version": "1.2.0",
      "model_name": "LayoutModel",
      "state": {
       "width": "190px"
      }
     },
     "b5f6200db3854bf7ab6d26975119e8eb": {
      "model_module": "@jupyter-widgets/controls",
      "model_module_version": "1.5.0",
      "model_name": "DescriptionStyleModel",
      "state": {
       "description_width": ""
      }
     },
     "b7dcbdf018c14870913f7034deb4b547": {
      "model_module": "@jupyter-widgets/controls",
      "model_module_version": "1.5.0",
      "model_name": "DescriptionStyleModel",
      "state": {
       "description_width": ""
      }
     },
     "b9cba9f6482d4ccbbb58bf4dd7482150": {
      "model_module": "@jupyter-widgets/base",
      "model_module_version": "1.2.0",
      "model_name": "LayoutModel",
      "state": {
       "overflow_x": "scroll"
      }
     },
     "bb6e5c9056164b6f80eedb20625f7ab3": {
      "model_module": "@jupyter-widgets/controls",
      "model_module_version": "1.5.0",
      "model_name": "HTMLModel",
      "state": {
       "layout": "IPY_MODEL_1ae3db3ebc76416f917a86ec092a9893",
       "style": "IPY_MODEL_f3bd3e5a860b405385ba4c682995e1cf",
       "value": "-"
      }
     },
     "bccf637efc2c4c11a13c04165b2031ac": {
      "model_module": "@jupyter-widgets/controls",
      "model_module_version": "1.5.0",
      "model_name": "DescriptionStyleModel",
      "state": {
       "description_width": ""
      }
     },
     "bd34d6ef5111474f9ee2f57c019675b3": {
      "model_module": "@jupyter-widgets/controls",
      "model_module_version": "1.5.0",
      "model_name": "DescriptionStyleModel",
      "state": {
       "description_width": ""
      }
     },
     "bddb7c2b087c4e8abbaf823fde09baac": {
      "model_module": "@jupyter-widgets/base",
      "model_module_version": "1.2.0",
      "model_name": "LayoutModel",
      "state": {
       "width": "70px"
      }
     },
     "bfe17c53bd8b42b39f4c04fb8cc8b1e4": {
      "model_module": "@jupyter-widgets/controls",
      "model_module_version": "1.5.0",
      "model_name": "DescriptionStyleModel",
      "state": {
       "description_width": ""
      }
     },
     "c23e40c855e7458fa5309e865fb0a181": {
      "model_module": "@jupyter-widgets/base",
      "model_module_version": "1.2.0",
      "model_name": "LayoutModel",
      "state": {
       "grid_area": "right",
       "padding": "0px 0px 0px 0px",
       "width": "70px"
      }
     },
     "c29c148ebbec4ecd84d62edf00cbee58": {
      "model_module": "@jupyter-widgets/base",
      "model_module_version": "1.2.0",
      "model_name": "LayoutModel",
      "state": {
       "margin": "0px 5px 0px 0px",
       "width": "32px"
      }
     },
     "c57ccfc3f1c142cca2dc9c894e82c050": {
      "model_module": "@jupyter-widgets/controls",
      "model_module_version": "1.5.0",
      "model_name": "HTMLModel",
      "state": {
       "layout": "IPY_MODEL_99434e32482e4bbe8c793dd869b4317d",
       "style": "IPY_MODEL_900669c0fd38466dba024362150c572f",
       "value": "<h5>Message</h5>"
      }
     },
     "c8960da5afb34e99acaf7b2d25d829c4": {
      "model_module": "@jupyter-widgets/controls",
      "model_module_version": "1.5.0",
      "model_name": "DescriptionStyleModel",
      "state": {
       "description_width": ""
      }
     },
     "c9dfa7b188334f4d8d01e9327deea313": {
      "model_module": "@jupyter-widgets/base",
      "model_module_version": "1.2.0",
      "model_name": "LayoutModel",
      "state": {
       "width": "95px"
      }
     },
     "cbcce37cd1394d76b485c05f307950d8": {
      "model_module": "@jupyter-widgets/base",
      "model_module_version": "1.2.0",
      "model_name": "LayoutModel",
      "state": {
       "margin": "0px 5px 0px 0px",
       "width": "32px"
      }
     },
     "cc7e594c7d7e4b259367a068d6e4391b": {
      "model_module": "@jupyter-widgets/controls",
      "model_module_version": "1.5.0",
      "model_name": "HTMLModel",
      "state": {
       "layout": "IPY_MODEL_e45fcfa10811433d890c61cf4e589580",
       "style": "IPY_MODEL_ec51cc41e13840c7a01abd31fc3da26f",
       "value": "61bf2eda20e2c4082bead4b0"
      }
     },
     "cdd42ff0c24740b8b484ae2eee449f16": {
      "model_module": "@jupyter-widgets/base",
      "model_module_version": "1.2.0",
      "model_name": "LayoutModel",
      "state": {
       "width": "190px"
      }
     },
     "cef9a04a12c84a48bba5e780ab87bb5c": {
      "model_module": "@jupyter-widgets/base",
      "model_module_version": "1.2.0",
      "model_name": "LayoutModel",
      "state": {
       "width": "145px"
      }
     },
     "d00a11df5a6b4692bb18d9bcd1599262": {
      "model_module": "@jupyter-widgets/controls",
      "model_module_version": "1.5.0",
      "model_name": "HTMLModel",
      "state": {
       "layout": "IPY_MODEL_83a01e9d6aff4be58f0f50f07d345e53",
       "style": "IPY_MODEL_521505e31cf4411ea961b28671cab04a",
       "value": "<h5>Job ID</h5>"
      }
     },
     "d1424f2ca9564b829b02f1d0ef965cef": {
      "model_module": "@jupyter-widgets/controls",
      "model_module_version": "1.5.0",
      "model_name": "DescriptionStyleModel",
      "state": {
       "description_width": ""
      }
     },
     "d3a852cce0e1467c9f38643eaeb93674": {
      "model_module": "@jupyter-widgets/controls",
      "model_module_version": "1.5.0",
      "model_name": "HTMLModel",
      "state": {
       "layout": "IPY_MODEL_6bc2979166b54503bd33987dc7299c4c",
       "style": "IPY_MODEL_b7dcbdf018c14870913f7034deb4b547",
       "value": "job has successfully run"
      }
     },
     "d4103b94d2fc484387aed346032ae1b6": {
      "model_module": "@jupyter-widgets/controls",
      "model_module_version": "1.5.0",
      "model_name": "HBoxModel",
      "state": {
       "children": [
        "IPY_MODEL_3843606cccdb4d55a69339ea80abe087",
        "IPY_MODEL_da220da49d904bd199b2f4aeece690c8",
        "IPY_MODEL_4f95640b3d9f4028ba8d2fc5de904974",
        "IPY_MODEL_0a24d80802cf45f782487d3e84409800",
        "IPY_MODEL_dab8c27f0132440692a59f78a785031d",
        "IPY_MODEL_f2c1a009e6494cbb92157601868e1e84"
       ],
       "layout": "IPY_MODEL_0daa38f23b7d456fb06e0b324b3305ae"
      }
     },
     "d44b3b50667647f99008064ab4a1e691": {
      "model_module": "@jupyter-widgets/controls",
      "model_module_version": "1.5.0",
      "model_name": "DescriptionStyleModel",
      "state": {
       "description_width": ""
      }
     },
     "d506996a7e6d4871b93c5f38579b1f72": {
      "model_module": "@jupyter-widgets/base",
      "model_module_version": "1.2.0",
      "model_name": "LayoutModel",
      "state": {
       "width": "95px"
      }
     },
     "d5e20ac7991649569c954f60203a181e": {
      "model_module": "@jupyter-widgets/base",
      "model_module_version": "1.2.0",
      "model_name": "LayoutModel",
      "state": {
       "margin": "0px 0px 0px 37px",
       "width": "600px"
      }
     },
     "da220da49d904bd199b2f4aeece690c8": {
      "model_module": "@jupyter-widgets/controls",
      "model_module_version": "1.5.0",
      "model_name": "HTMLModel",
      "state": {
       "layout": "IPY_MODEL_387dcaa2feb644c192f166cd4dff44e0",
       "style": "IPY_MODEL_c8960da5afb34e99acaf7b2d25d829c4",
       "value": "61bf2f92e2b9d15ce49115f2"
      }
     },
     "da5d10a8c771415e8ff60a36e55a10f3": {
      "model_module": "@jupyter-widgets/base",
      "model_module_version": "1.2.0",
      "model_name": "LayoutModel",
      "state": {
       "width": "95px"
      }
     },
     "da8acb5de2e34e1e87522d07fb5e4ce6": {
      "model_module": "@jupyter-widgets/base",
      "model_module_version": "1.2.0",
      "model_name": "LayoutModel",
      "state": {
       "max_width": "700px",
       "min_width": "700px"
      }
     },
     "dab8c27f0132440692a59f78a785031d": {
      "model_module": "@jupyter-widgets/controls",
      "model_module_version": "1.5.0",
      "model_name": "HTMLModel",
      "state": {
       "layout": "IPY_MODEL_5462ebbb5a8a4b3fb04ffd5ec9e624c6",
       "style": "IPY_MODEL_07509c42d58949a8bce39cc5df5e8303",
       "value": "-"
      }
     },
     "dc07571ebc3b4e7c98f7327b8bff0e13": {
      "model_module": "@jupyter-widgets/controls",
      "model_module_version": "1.5.0",
      "model_name": "DescriptionStyleModel",
      "state": {
       "description_width": ""
      }
     },
     "dc319f858ea94215943ce09d1a5c6187": {
      "model_module": "@jupyter-widgets/base",
      "model_module_version": "1.2.0",
      "model_name": "LayoutModel",
      "state": {
       "width": "145px"
      }
     },
     "ddc7f9501e52469081c53866b453c4b3": {
      "model_module": "@jupyter-widgets/controls",
      "model_module_version": "1.5.0",
      "model_name": "DescriptionStyleModel",
      "state": {
       "description_width": ""
      }
     },
     "e08f58c8826545db80c5e8b39c3b8f37": {
      "model_module": "@jupyter-widgets/base",
      "model_module_version": "1.2.0",
      "model_name": "LayoutModel",
      "state": {
       "margin": "0px 5px 0px 0px",
       "width": "32px"
      }
     },
     "e154e43d2aa54e85a4c988bd2f832078": {
      "model_module": "@jupyter-widgets/base",
      "model_module_version": "1.2.0",
      "model_name": "LayoutModel",
      "state": {
       "max_width": "700px",
       "min_width": "700px"
      }
     },
     "e45fcfa10811433d890c61cf4e589580": {
      "model_module": "@jupyter-widgets/base",
      "model_module_version": "1.2.0",
      "model_name": "LayoutModel",
      "state": {
       "width": "190px"
      }
     },
     "e8a39e208f734c29b85554f606d56deb": {
      "model_module": "@jupyter-widgets/base",
      "model_module_version": "1.2.0",
      "model_name": "LayoutModel",
      "state": {
       "width": "95px"
      }
     },
     "e96d83b5cd764b18952554ff4ecd9afc": {
      "model_module": "@jupyter-widgets/controls",
      "model_module_version": "1.5.0",
      "model_name": "HTMLModel",
      "state": {
       "layout": "IPY_MODEL_46c3ba6a38e94571a16d7954d1f86509",
       "style": "IPY_MODEL_a7173d5fc2604b3cac80e335c1e62f1b",
       "value": "job has successfully run"
      }
     },
     "ea13434e65074307874ec6523ffe9132": {
      "model_module": "@jupyter-widgets/controls",
      "model_module_version": "1.5.0",
      "model_name": "HTMLModel",
      "state": {
       "layout": "IPY_MODEL_21c76f707790416791cc4dace26bff32",
       "style": "IPY_MODEL_b5f6200db3854bf7ab6d26975119e8eb",
       "value": "<h5>Queue</h5>"
      }
     },
     "eab5f6b1136441568485bda2c150f049": {
      "model_module": "@jupyter-widgets/controls",
      "model_module_version": "1.5.0",
      "model_name": "DescriptionStyleModel",
      "state": {
       "description_width": ""
      }
     },
     "eb7cc6e28eb6479a839cdce545e3b290": {
      "model_module": "@jupyter-widgets/controls",
      "model_module_version": "1.5.0",
      "model_name": "HBoxModel",
      "state": {
       "children": [
        "IPY_MODEL_08c4c1ecd1044b929e61e95203a0447d",
        "IPY_MODEL_a2a7a9fede5b4fea980455c0ae3c731c",
        "IPY_MODEL_60b3e88233d745ccb3dc35c60116d3ab",
        "IPY_MODEL_75be8d9d5fb342fcae9d69787daa3f22",
        "IPY_MODEL_a52d8f271da144839a43ba76ec7bda54",
        "IPY_MODEL_57b73e3b58a6472294d662205194bf49"
       ],
       "layout": "IPY_MODEL_e154e43d2aa54e85a4c988bd2f832078"
      }
     },
     "ebfaa3a880db4a7fba7b8418f2dca487": {
      "model_module": "@jupyter-widgets/base",
      "model_module_version": "1.2.0",
      "model_name": "LayoutModel",
      "state": {
       "width": "145px"
      }
     },
     "ec51cc41e13840c7a01abd31fc3da26f": {
      "model_module": "@jupyter-widgets/controls",
      "model_module_version": "1.5.0",
      "model_name": "DescriptionStyleModel",
      "state": {
       "description_width": ""
      }
     },
     "f070c33e90a742bbb8da34ed80dcee2f": {
      "model_module": "@jupyter-widgets/controls",
      "model_module_version": "1.5.0",
      "model_name": "DescriptionStyleModel",
      "state": {
       "description_width": ""
      }
     },
     "f2c1a009e6494cbb92157601868e1e84": {
      "model_module": "@jupyter-widgets/controls",
      "model_module_version": "1.5.0",
      "model_name": "HTMLModel",
      "state": {
       "layout": "IPY_MODEL_aee17c80cd284e5d9d76fef953619e6f",
       "style": "IPY_MODEL_446ca27bbf8a4723b679824c039e0961",
       "value": "job has successfully run"
      }
     },
     "f3bd3e5a860b405385ba4c682995e1cf": {
      "model_module": "@jupyter-widgets/controls",
      "model_module_version": "1.5.0",
      "model_name": "DescriptionStyleModel",
      "state": {
       "description_width": ""
      }
     },
     "f5f092af4bec494fa9c03a794147ae01": {
      "model_module": "@jupyter-widgets/base",
      "model_module_version": "1.2.0",
      "model_name": "LayoutModel",
      "state": {
       "width": "190px"
      }
     },
     "f77cd3b70cda4565841f39a12d4adbc7": {
      "model_module": "@jupyter-widgets/controls",
      "model_module_version": "1.5.0",
      "model_name": "HTMLModel",
      "state": {
       "layout": "IPY_MODEL_8e1d9d94238b4d8e9a2a12037c132391",
       "style": "IPY_MODEL_5d86921022e14e059e825895e2e06ea3",
       "value": "ibmq_jakarta"
      }
     },
     "f81ab02b8bd74b469500cf137c95ccee": {
      "model_module": "@jupyter-widgets/controls",
      "model_module_version": "1.5.0",
      "model_name": "HTMLModel",
      "state": {
       "layout": "IPY_MODEL_b9cba9f6482d4ccbbb58bf4dd7482150",
       "style": "IPY_MODEL_2fb11692a3c1476e82a7edbc81ca5785",
       "value": "job has successfully run"
      }
     },
     "f84deefa563e4dc9bbd83738cce2d317": {
      "model_module": "@jupyter-widgets/controls",
      "model_module_version": "1.5.0",
      "model_name": "DescriptionStyleModel",
      "state": {
       "description_width": ""
      }
     },
     "f9ead15fe094456a998db8ddf15ce398": {
      "model_module": "@jupyter-widgets/controls",
      "model_module_version": "1.5.0",
      "model_name": "DescriptionStyleModel",
      "state": {
       "description_width": ""
      }
     },
     "fb123d481ce74322a9d85cbbab6d0009": {
      "model_module": "@jupyter-widgets/controls",
      "model_module_version": "1.5.0",
      "model_name": "HBoxModel",
      "state": {
       "children": [
        "IPY_MODEL_75ecd02d520a49f5a0f7d841de85e0a6",
        "IPY_MODEL_0666412419894dde92afa113b0536363",
        "IPY_MODEL_f77cd3b70cda4565841f39a12d4adbc7",
        "IPY_MODEL_2e44a156e97e49388de304628333b6d1",
        "IPY_MODEL_bb6e5c9056164b6f80eedb20625f7ab3",
        "IPY_MODEL_f81ab02b8bd74b469500cf137c95ccee"
       ],
       "layout": "IPY_MODEL_da8acb5de2e34e1e87522d07fb5e4ce6"
      }
     },
     "fcc2146f717d4fd6a75cf0241fde6a5e": {
      "model_module": "@jupyter-widgets/controls",
      "model_module_version": "1.5.0",
      "model_name": "ButtonStyleModel",
      "state": {}
     },
     "fd1fa1b28a434a3c83cc1c62ab76675c": {
      "model_module": "@jupyter-widgets/controls",
      "model_module_version": "1.5.0",
      "model_name": "DescriptionStyleModel",
      "state": {
       "description_width": ""
      }
     },
     "fdc7291e2d74484aaf9b9c490758b3f5": {
      "model_module": "@jupyter-widgets/base",
      "model_module_version": "1.2.0",
      "model_name": "LayoutModel",
      "state": {
       "width": "70px"
      }
     },
     "fe2021ea796245d0a1ec910b403a18f9": {
      "model_module": "@jupyter-widgets/controls",
      "model_module_version": "1.5.0",
      "model_name": "HTMLModel",
      "state": {
       "layout": "IPY_MODEL_a1bbe273822b413796f7baeee20df3dd",
       "style": "IPY_MODEL_ddc7f9501e52469081c53866b453c4b3",
       "value": "ibmq_jakarta"
      }
     }
    },
    "version_major": 2,
    "version_minor": 0
   }
  }
 },
 "nbformat": 4,
 "nbformat_minor": 5
}
